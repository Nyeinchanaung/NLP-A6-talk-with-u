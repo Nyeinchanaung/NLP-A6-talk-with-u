{
 "cells": [
  {
   "cell_type": "markdown",
   "metadata": {
    "id": "koI0IJDYI6Ix"
   },
   "source": [
    "# Natural Language Processing\n",
    "\n",
    "# Retrieval-Augmented generation (RAG)\n",
    "\n",
    "RAG is a technique for augmenting LLM knowledge with additional, often private or real-time, data.\n",
    "\n",
    "LLMs can reason about wide-ranging topics, but their knowledge is limited to the public data up to a specific point in time that they were trained on. If you want to build AI applications that can reason about private data or data introduced after a model’s cutoff date, you need to augment the knowledge of the model with the specific information it needs.\n",
    "\n",
    "<img src=\"../figures/RAG-process.png\" >\n",
    "\n",
    "Introducing `ChakyBot`, an innovative chatbot designed to assist Chaky (the instructor) and TA (Gun) in explaining the lesson of the NLP course to students. Leveraging LangChain technology, ChakyBot excels in retrieving information from documents, ensuring a seamless and efficient learning experience for students engaging with the NLP curriculum.\n",
    "\n",
    "1. Prompt\n",
    "2. Retrieval\n",
    "3. Memory\n",
    "4. Chain"
   ]
  },
  {
   "cell_type": "code",
   "execution_count": 40,
   "metadata": {
    "colab": {
     "base_uri": "https://localhost:8080/"
    },
    "executionInfo": {
     "elapsed": 116,
     "status": "ok",
     "timestamp": 1742100547192,
     "user": {
      "displayName": "Nyein Chan Aung",
      "userId": "10271779707834005263"
     },
     "user_tz": -420
    },
    "id": "JXkTAHoUSLjr",
    "outputId": "e5670a71-a453-4fe7-8763-9fdb95eec800"
   },
   "outputs": [
    {
     "name": "stderr",
     "output_type": "stream",
     "text": [
      "huggingface/tokenizers: The current process just got forked, after parallelism has already been used. Disabling parallelism to avoid deadlocks...\n",
      "To disable this warning, you can either:\n",
      "\t- Avoid using `tokenizers` before the fork if possible\n",
      "\t- Explicitly set the environment variable TOKENIZERS_PARALLELISM=(true | false)\n"
     ]
    },
    {
     "name": "stdout",
     "output_type": "stream",
     "text": [
      "Python 3.9.21\n"
     ]
    }
   ],
   "source": [
    "!python --version"
   ]
  },
  {
   "cell_type": "code",
   "execution_count": 1,
   "metadata": {
    "id": "b0wMC1pbI6I1"
   },
   "outputs": [],
   "source": [
    "# !pip install langchain_community==0.0.9"
   ]
  },
  {
   "cell_type": "code",
   "execution_count": 2,
   "metadata": {
    "id": "8ho6XTlTI6I2",
    "outputId": "c016bba9-19db-4092-caf9-161013159527"
   },
   "outputs": [],
   "source": [
    "# #langchain library\n",
    "# !pip install langchain==0.0.350\n",
    "# !pip install langchain_community==0.0.4\n",
    "# # !pip install langchain==0.1.0\n",
    "# #LLM\n",
    "# !pip install accelerate==0.25.0\n",
    "# !pip install transformers==4.36.2\n",
    "# !pip install bitsandbytes==0.41.2\n",
    "# #Text Embedding\n",
    "# !pip install sentence-transformers==2.2.2\n",
    "# !pip install InstructorEmbedding==1.0.1\n",
    "# #vectorstore\n",
    "# !pip install pymupdf==1.23.8\n",
    "# !pip install faiss-gpu==1.7.2\n",
    "# !pip install faiss-cpu==1.7.4\n",
    "# !pip install huggingface_hub==0.20.0\n"
   ]
  },
  {
   "cell_type": "code",
   "execution_count": 3,
   "metadata": {
    "colab": {
     "base_uri": "https://localhost:8080/"
    },
    "executionInfo": {
     "elapsed": 18,
     "status": "ok",
     "timestamp": 1742035550286,
     "user": {
      "displayName": "Nyein Chan Aung",
      "userId": "10271779707834005263"
     },
     "user_tz": -420
    },
    "id": "ypU4AzLTLhXm",
    "outputId": "6a65be04-1e0d-4d8a-b972-ead27d5624b0"
   },
   "outputs": [
    {
     "name": "stdout",
     "output_type": "stream",
     "text": [
      "0.0.350\n"
     ]
    }
   ],
   "source": [
    "import langchain\n",
    "print(langchain.__version__)"
   ]
  },
  {
   "cell_type": "code",
   "execution_count": 4,
   "metadata": {
    "colab": {
     "base_uri": "https://localhost:8080/"
    },
    "executionInfo": {
     "elapsed": 3324,
     "status": "ok",
     "timestamp": 1742035553611,
     "user": {
      "displayName": "Nyein Chan Aung",
      "userId": "10271779707834005263"
     },
     "user_tz": -420
    },
    "id": "ZI_dOxy-I6I3",
    "outputId": "c9537915-4638-41ef-9ba6-a4ec479b950a"
   },
   "outputs": [
    {
     "data": {
      "text/plain": [
       "device(type='cpu')"
      ]
     },
     "execution_count": 4,
     "metadata": {},
     "output_type": "execute_result"
    }
   ],
   "source": [
    "import os\n",
    "import torch\n",
    "# Set GPU device\n",
    "# os.environ[\"CUDA_VISIBLE_DEVICES\"] = \"1\"\n",
    "\n",
    "# os.environ['http_proxy']  = 'http://192.41.170.23:3128'\n",
    "# os.environ['https_proxy'] = 'http://192.41.170.23:3128'\n",
    "\n",
    "device = torch.device('cuda' if torch.cuda.is_available() else 'cpu')\n",
    "device"
   ]
  },
  {
   "cell_type": "markdown",
   "metadata": {
    "id": "ID8Mi1r5I6I3"
   },
   "source": [
    "## 1. Prompt\n",
    "\n",
    "A set of instructions or input provided by a user to guide the model's response, helping it understand the context and generate relevant and coherent language-based output, such as answering questions, completing sentences, or engaging in a conversation."
   ]
  },
  {
   "cell_type": "code",
   "execution_count": 5,
   "metadata": {
    "colab": {
     "base_uri": "https://localhost:8080/"
    },
    "executionInfo": {
     "elapsed": 2097,
     "status": "ok",
     "timestamp": 1742035555707,
     "user": {
      "displayName": "Nyein Chan Aung",
      "userId": "10271779707834005263"
     },
     "user_tz": -420
    },
    "id": "HtcXFUzmI6I3",
    "outputId": "e6967248-fc7f-4f15-dd60-74725e5df1d6"
   },
   "outputs": [
    {
     "data": {
      "text/plain": [
       "PromptTemplate(input_variables=['context', 'question'], template=\"You are AI assistance and you need to answer the user's question according to the context given.\\n    {context}\\n    Question: {question}\\n    Answer:\")"
      ]
     },
     "execution_count": 5,
     "metadata": {},
     "output_type": "execute_result"
    }
   ],
   "source": [
    "from langchain import PromptTemplate\n",
    "\n",
    "prompt_template = \"\"\"\n",
    "    You are AI assistance and you need to answer the user's question according to the context given.\n",
    "    {context}\n",
    "    Question: {question}\n",
    "    Answer:\n",
    "    \"\"\".strip()\n",
    "\n",
    "PROMPT = PromptTemplate.from_template(\n",
    "    template = prompt_template\n",
    ")\n",
    "\n",
    "PROMPT\n",
    "#using str.format\n",
    "#The placeholder is defined using curly brackets: {} {}"
   ]
  },
  {
   "cell_type": "code",
   "execution_count": 6,
   "metadata": {
    "colab": {
     "base_uri": "https://localhost:8080/",
     "height": 178
    },
    "executionInfo": {
     "elapsed": 6,
     "status": "ok",
     "timestamp": 1742035555711,
     "user": {
      "displayName": "Nyein Chan Aung",
      "userId": "10271779707834005263"
     },
     "user_tz": -420
    },
    "id": "V5Q5BInJI6I4",
    "outputId": "39e3ca8c-cecd-4f98-eb68-ab64474600cb"
   },
   "outputs": [
    {
     "data": {
      "text/plain": [
       "\"You are AI assistance and you need to answer the user's question according to the context given.\\n    I'm Nyein Chan Aung, currently working as a product manager at a tech company.\\n    Question: Who are you?\\n    Answer:\""
      ]
     },
     "execution_count": 6,
     "metadata": {},
     "output_type": "execute_result"
    }
   ],
   "source": [
    "PROMPT.format(\n",
    "    context = \"I'm Nyein Chan Aung, currently working as a product manager at a tech company.\",\n",
    "    question = \"Who are you?\"\n",
    ")"
   ]
  },
  {
   "cell_type": "markdown",
   "metadata": {
    "id": "4eluH1A9I6I4"
   },
   "source": [
    "Note : [How to improve prompting (Zero-shot, Few-shot, Chain-of-Thought, etc.](https://github.com/chaklam-silpasuwanchai/Natural-Language-Processing/blob/main/Code/05%20-%20RAG/advance/cot-tot-prompting.ipynb)"
   ]
  },
  {
   "cell_type": "markdown",
   "metadata": {
    "id": "3iOyYhsgI6I4"
   },
   "source": [
    "## 2. Retrieval\n",
    "\n",
    "1. `Document loaders` : Load documents from many different sources (HTML, PDF, code).\n",
    "2. `Document transformers` : One of the essential steps in document retrieval is breaking down a large document into smaller, relevant chunks to enhance the retrieval process.\n",
    "3. `Text embedding models` : Embeddings capture the semantic meaning of the text, allowing you to quickly and efficiently find other pieces of text that are similar.\n",
    "4. `Vector stores`: there has emerged a need for databases to support efficient storage and searching of these embeddings.\n",
    "5. `Retrievers` : Once the data is in the database, you still need to retrieve it."
   ]
  },
  {
   "cell_type": "markdown",
   "metadata": {
    "id": "1S_T54KdI6I5"
   },
   "source": [
    "### 2.1 Document Loaders\n",
    "Use document loaders to load data from a source as Document's. A Document is a piece of text and associated metadata. For example, there are document loaders for loading a simple .txt file, for loading the text contents of any web page, or even for loading a transcript of a YouTube video.\n",
    "\n",
    "[PDF Loader](https://python.langchain.com/docs/modules/data_connection/document_loaders/pdf)\n",
    "\n",
    "[Download Document](https://web.stanford.edu/~jurafsky/slp3/)"
   ]
  },
  {
   "cell_type": "code",
   "execution_count": 7,
   "metadata": {
    "id": "noj1mtYJJ5YH"
   },
   "outputs": [],
   "source": [
    "# # connect google drive\n",
    "# from google.colab import drive\n",
    "# # set directory with os\n",
    "# import os\n",
    "# drive.mount('/content/drive')\n",
    "# os.chdir('/content/drive/MyDrive/_NLP/A6')"
   ]
  },
  {
   "cell_type": "code",
   "execution_count": 8,
   "metadata": {
    "id": "Ez_WX7N8MzIE"
   },
   "outputs": [],
   "source": [
    "# !pip install -U langchain-community"
   ]
  },
  {
   "cell_type": "code",
   "execution_count": 9,
   "metadata": {
    "id": "zFUH89doM5sY"
   },
   "outputs": [],
   "source": [
    "# # update pymupdf\n",
    "# !pip uninstall pymupdf\n",
    "# !pip install pymupdf"
   ]
  },
  {
   "cell_type": "code",
   "execution_count": 10,
   "metadata": {
    "id": "qJRZzbmiI6I5"
   },
   "outputs": [],
   "source": [
    "from langchain.document_loaders import PyMuPDFLoader\n",
    "\n",
    "nlp_docs = 'about-nca.pdf'\n",
    "\n",
    "loader = PyMuPDFLoader(nlp_docs)\n",
    "documents = loader.load()"
   ]
  },
  {
   "cell_type": "code",
   "execution_count": 11,
   "metadata": {
    "id": "xPreqgjnI6I5"
   },
   "outputs": [],
   "source": [
    "# documents"
   ]
  },
  {
   "cell_type": "markdown",
   "metadata": {
    "id": "JgyREfexSn7H"
   },
   "source": []
  },
  {
   "cell_type": "code",
   "execution_count": 12,
   "metadata": {
    "colab": {
     "base_uri": "https://localhost:8080/"
    },
    "executionInfo": {
     "elapsed": 14,
     "status": "ok",
     "timestamp": 1742035564225,
     "user": {
      "displayName": "Nyein Chan Aung",
      "userId": "10271779707834005263"
     },
     "user_tz": -420
    },
    "id": "4ddZZPv1I6I5",
    "outputId": "b3c0db67-38ea-4a0c-9bbe-ef4c137f4be7"
   },
   "outputs": [
    {
     "data": {
      "text/plain": [
       "5"
      ]
     },
     "execution_count": 12,
     "metadata": {},
     "output_type": "execute_result"
    }
   ],
   "source": [
    "len(documents)"
   ]
  },
  {
   "cell_type": "code",
   "execution_count": 13,
   "metadata": {
    "colab": {
     "base_uri": "https://localhost:8080/"
    },
    "executionInfo": {
     "elapsed": 7,
     "status": "ok",
     "timestamp": 1742035564225,
     "user": {
      "displayName": "Nyein Chan Aung",
      "userId": "10271779707834005263"
     },
     "user_tz": -420
    },
    "id": "oGHQXkjTI6I6",
    "outputId": "f8a98eb7-6713-4c8d-a3e3-40eb131dab2e"
   },
   "outputs": [
    {
     "data": {
      "text/plain": [
       "Document(page_content='Page 2 of 5 \\n \\n \\nSUMMARY \\nDedicated and passionate product expert with 8+ years of experience in various technical industries \\n(education, finance, agriculture). My major objective is to contribute to the business by utilizing my \\ntechnical and business management skillset. I am eager to improve my experience and knowledge in \\n delivering qualified digital products that provide value to clients and users.   \\nEDUCATION \\nMaster of Data Science and Artificial Intelligence (Msc in DSAI) \\n- \\nAsian Institute of Technology (2024-Currnet) \\n \\nBusiness Information Technology (BSc Hons) \\n• University of Greenwich (2011 - 2014) \\n \\nBachelor of Laws (LL. B) \\n • Yangon University of Distance Education, Yangon, Myanmar (2007 - 2010) \\nWORK EXPERIENCE \\nProduct Manager \\nVillage Link Co. Ltd. \\nNov 2019 to Present \\n \\nJob Responsibility \\n• Assist the CEO in preparing product roadmaps for business development efforts. \\n• Prepare Product Requirement Documents (PRDs) to translate the high-level requirement into the \\ndeveloper-friendly functional specification for each value-added feature. \\n• Responsible for communicating product progress with the internal development team, vendors, \\nand various internal stakeholders weekly and monthly. \\n• Drive product management and development team for cross-platform applications \\n• Schedule tasks and monitor work completion weekly to ensure project milestones are delivered \\n(2 weeks) each sprint.  \\n• Delegate technical responsibilities and monitor the progress of the product. \\n• Conduct the development team recruitment process from preparing the job description to \\nfinalizing the candidate. \\n \\nProduct Owner \\nTrue Money Myanmar Co., Ltd. \\nMarch 2019 to Oct 2019 \\n \\nJob Responsibility \\n', metadata={'source': 'about-nca.pdf', 'file_path': 'about-nca.pdf', 'page': 1, 'total_pages': 5, 'format': 'PDF 1.4', 'title': '', 'author': '', 'subject': '', 'keywords': '', 'creator': '', 'producer': 'macOS Version 15.3.2 (Build 24D81) Quartz PDFContext', 'creationDate': \"D:20250316085053Z00'00'\", 'modDate': \"D:20250316085053Z00'00'\", 'trapped': ''})"
      ]
     },
     "execution_count": 13,
     "metadata": {},
     "output_type": "execute_result"
    }
   ],
   "source": [
    "documents[1]"
   ]
  },
  {
   "cell_type": "markdown",
   "metadata": {
    "id": "x1VGC7ZDI6I6"
   },
   "source": [
    "### 2.2 Document Transformers\n",
    "\n",
    "This text splitter is the recommended one for generic text. It is parameterized by a list of characters. It tries to split on them in order until the chunks are small enough"
   ]
  },
  {
   "cell_type": "code",
   "execution_count": 14,
   "metadata": {
    "id": "oUQNrC-uI6I6"
   },
   "outputs": [],
   "source": [
    "from langchain.text_splitter import RecursiveCharacterTextSplitter\n",
    "\n",
    "text_splitter = RecursiveCharacterTextSplitter(\n",
    "    chunk_size = 700,\n",
    "    chunk_overlap = 100\n",
    ")\n",
    "\n",
    "doc = text_splitter.split_documents(documents)"
   ]
  },
  {
   "cell_type": "code",
   "execution_count": 15,
   "metadata": {
    "colab": {
     "base_uri": "https://localhost:8080/"
    },
    "executionInfo": {
     "elapsed": 8,
     "status": "ok",
     "timestamp": 1742035564408,
     "user": {
      "displayName": "Nyein Chan Aung",
      "userId": "10271779707834005263"
     },
     "user_tz": -420
    },
    "id": "1XQ44KHnI6I6",
    "outputId": "d764bc46-526e-4f6c-84b5-5cb19aa5381a"
   },
   "outputs": [
    {
     "data": {
      "text/plain": [
       "Document(page_content='allowed me to migrate the hundred thousand user-generated datasets from the legacy system \\nto a completely new platform in 2021. \\n \\nI started my career in the tech industry as a developer while I was studying Business \\nInformation Technology. After that, I moved forward into product development and \\nmanagement when I found my enthusiasm for the art of product development lifecycle \\napplying Agile Methodology. However, I am still actively sharing the technical workload by \\nreviewing the source code for quality assurance and taking responsibility for the server \\ndeployment using different cloud service providers such as AWS, Microsoft Azure, and Digital \\nOcean.', metadata={'source': 'about-nca.pdf', 'file_path': 'about-nca.pdf', 'page': 0, 'total_pages': 5, 'format': 'PDF 1.4', 'title': '', 'author': '', 'subject': '', 'keywords': '', 'creator': '', 'producer': 'macOS Version 15.3.2 (Build 24D81) Quartz PDFContext', 'creationDate': \"D:20250316085053Z00'00'\", 'modDate': \"D:20250316085053Z00'00'\", 'trapped': ''})"
      ]
     },
     "execution_count": 15,
     "metadata": {},
     "output_type": "execute_result"
    }
   ],
   "source": [
    "doc[1]"
   ]
  },
  {
   "cell_type": "code",
   "execution_count": 16,
   "metadata": {
    "colab": {
     "base_uri": "https://localhost:8080/"
    },
    "executionInfo": {
     "elapsed": 19,
     "status": "ok",
     "timestamp": 1742035564428,
     "user": {
      "displayName": "Nyein Chan Aung",
      "userId": "10271779707834005263"
     },
     "user_tz": -420
    },
    "id": "Ffq6gHAOI6I6",
    "outputId": "27e9e007-5689-4342-e108-552acabfa10a"
   },
   "outputs": [
    {
     "data": {
      "text/plain": [
       "17"
      ]
     },
     "execution_count": 16,
     "metadata": {},
     "output_type": "execute_result"
    }
   ],
   "source": [
    "len(doc)"
   ]
  },
  {
   "cell_type": "markdown",
   "metadata": {
    "id": "HpMw-LLzI6I6"
   },
   "source": [
    "### 2.3 Text Embedding Models\n",
    "Embeddings create a vector representation of a piece of text. This is useful because it means we can think about text in the vector space, and do things like semantic search where we look for pieces of text that are most similar in the vector space.\n",
    "\n",
    "*Note* Instructor Model : [Huggingface](gingface.co/hkunlp/instructor-base) | [Paper](https://arxiv.org/abs/2212.09741)"
   ]
  },
  {
   "cell_type": "code",
   "execution_count": 17,
   "metadata": {
    "id": "JgnfAR2BONju"
   },
   "outputs": [],
   "source": [
    "# !pip install --upgrade huggingface_hub==0.18.0"
   ]
  },
  {
   "cell_type": "markdown",
   "metadata": {
    "id": "uDheN4xGP_XM"
   },
   "source": []
  },
  {
   "cell_type": "code",
   "execution_count": 18,
   "metadata": {
    "colab": {
     "base_uri": "https://localhost:8080/"
    },
    "executionInfo": {
     "elapsed": 20,
     "status": "ok",
     "timestamp": 1742035564452,
     "user": {
      "displayName": "Nyein Chan Aung",
      "userId": "10271779707834005263"
     },
     "user_tz": -420
    },
    "id": "X-oS7T_xKhJa",
    "outputId": "d3364506-c894-460f-bee2-0925c6d3e3d1"
   },
   "outputs": [
    {
     "name": "stdout",
     "output_type": "stream",
     "text": [
      "0.20.0\n"
     ]
    }
   ],
   "source": [
    "import huggingface_hub\n",
    "print(huggingface_hub.__version__)"
   ]
  },
  {
   "cell_type": "code",
   "execution_count": 19,
   "metadata": {
    "colab": {
     "base_uri": "https://localhost:8080/"
    },
    "executionInfo": {
     "elapsed": 6,
     "status": "ok",
     "timestamp": 1742035564589,
     "user": {
      "displayName": "Nyein Chan Aung",
      "userId": "10271779707834005263"
     },
     "user_tz": -420
    },
    "id": "Wu7A-aACUQPh",
    "outputId": "5d7f5af9-c797-43a7-cdc1-db5c713cf108"
   },
   "outputs": [
    {
     "name": "stdout",
     "output_type": "stream",
     "text": [
      "0.20.0\n"
     ]
    }
   ],
   "source": [
    "print(huggingface_hub.__version__)"
   ]
  },
  {
   "cell_type": "code",
   "execution_count": 20,
   "metadata": {
    "colab": {
     "base_uri": "https://localhost:8080/",
     "height": 651
    },
    "executionInfo": {
     "elapsed": 3417,
     "status": "error",
     "timestamp": 1742035568006,
     "user": {
      "displayName": "Nyein Chan Aung",
      "userId": "10271779707834005263"
     },
     "user_tz": -420
    },
    "id": "bKktbjQwI6I6",
    "outputId": "d720d97f-28f0-4eff-a19c-4ddccd19587a"
   },
   "outputs": [
    {
     "name": "stderr",
     "output_type": "stream",
     "text": [
      "/opt/anaconda3/envs/oldrag/lib/python3.9/site-packages/InstructorEmbedding/instructor.py:7: TqdmWarning: IProgress not found. Please update jupyter and ipywidgets. See https://ipywidgets.readthedocs.io/en/stable/user_install.html\n",
      "  from tqdm.autonotebook import trange\n",
      "/opt/anaconda3/envs/oldrag/lib/python3.9/site-packages/transformers/utils/generic.py:441: FutureWarning: `torch.utils._pytree._register_pytree_node` is deprecated. Please use `torch.utils._pytree.register_pytree_node` instead.\n",
      "  _torch_pytree._register_pytree_node(\n"
     ]
    },
    {
     "name": "stdout",
     "output_type": "stream",
     "text": [
      "load INSTRUCTOR_Transformer\n"
     ]
    },
    {
     "name": "stderr",
     "output_type": "stream",
     "text": [
      "/opt/anaconda3/envs/oldrag/lib/python3.9/site-packages/transformers/utils/generic.py:309: FutureWarning: `torch.utils._pytree._register_pytree_node` is deprecated. Please use `torch.utils._pytree.register_pytree_node` instead.\n",
      "  _torch_pytree._register_pytree_node(\n",
      "/opt/anaconda3/envs/oldrag/lib/python3.9/site-packages/transformers/utils/generic.py:309: FutureWarning: `torch.utils._pytree._register_pytree_node` is deprecated. Please use `torch.utils._pytree.register_pytree_node` instead.\n",
      "  _torch_pytree._register_pytree_node(\n"
     ]
    },
    {
     "name": "stdout",
     "output_type": "stream",
     "text": [
      "max_seq_length  512\n"
     ]
    }
   ],
   "source": [
    "import torch\n",
    "from InstructorEmbedding import INSTRUCTOR\n",
    "from langchain_community.embeddings import HuggingFaceInstructEmbeddings\n",
    "from langchain.embeddings import OpenAIEmbeddings\n",
    "\n",
    "\n",
    "model_name = 'hkunlp/instructor-base'\n",
    "\n",
    "embedding_model = HuggingFaceInstructEmbeddings(\n",
    "    model_name = model_name,\n",
    "    model_kwargs = {\"device\" : device}\n",
    ")"
   ]
  },
  {
   "cell_type": "markdown",
   "metadata": {
    "id": "V0WYO1lCI6I6"
   },
   "source": [
    "### 2.4 Vector Stores\n",
    "\n",
    "One of the most common ways to store and search over unstructured data is to embed it and store the resulting embedding vectors, and then at query time to embed the unstructured query and retrieve the embedding vectors that are 'most similar' to the embedded query. A vector store takes care of storing embedded data and performing vector search for you."
   ]
  },
  {
   "cell_type": "code",
   "execution_count": 21,
   "metadata": {
    "id": "UyUIOYyDI6I7"
   },
   "outputs": [],
   "source": [
    "#locate vectorstore\n",
    "vector_path = 'vector-store'\n",
    "if not os.path.exists(vector_path):\n",
    "    os.makedirs(vector_path)\n",
    "    print('create path done')"
   ]
  },
  {
   "cell_type": "code",
   "execution_count": 22,
   "metadata": {
    "id": "mQQY4DZqLYrg"
   },
   "outputs": [],
   "source": [
    "# !pip install faiss-cpu"
   ]
  },
  {
   "cell_type": "code",
   "execution_count": 23,
   "metadata": {
    "id": "y7zCbbiQI6I7"
   },
   "outputs": [],
   "source": [
    "#save vector locally\n",
    "from langchain.vectorstores import FAISS\n",
    "\n",
    "vectordb = FAISS.from_documents(\n",
    "    documents = doc,\n",
    "    embedding = embedding_model\n",
    ")\n",
    "\n",
    "db_file_name = 'nlp_stanford'\n",
    "\n",
    "vectordb.save_local(\n",
    "    folder_path = os.path.join(vector_path, db_file_name),\n",
    "    index_name = 'nlp' #default index\n",
    ")"
   ]
  },
  {
   "cell_type": "markdown",
   "metadata": {
    "id": "rChZ_woXI6I7"
   },
   "source": [
    "### 2.5 retrievers\n",
    "A retriever is an interface that returns documents given an unstructured query. It is more general than a vector store. A retriever does not need to be able to store documents, only to return (or retrieve) them. Vector stores can be used as the backbone of a retriever, but there are other types of retrievers as well."
   ]
  },
  {
   "cell_type": "code",
   "execution_count": 24,
   "metadata": {
    "id": "OIEziXBHI6I7"
   },
   "outputs": [],
   "source": [
    "#calling vector from local\n",
    "vector_path = 'vector-store'\n",
    "db_file_name = 'nlp_stanford'\n",
    "\n",
    "from langchain.vectorstores import FAISS\n",
    "\n",
    "vectordb = FAISS.load_local(\n",
    "    folder_path = os.path.join(vector_path, db_file_name),\n",
    "    embeddings = embedding_model,\n",
    "    index_name = 'nlp' #default index\n",
    ")"
   ]
  },
  {
   "cell_type": "code",
   "execution_count": 25,
   "metadata": {
    "id": "MEjRclueI6I7"
   },
   "outputs": [],
   "source": [
    "#ready to use\n",
    "retriever = vectordb.as_retriever()"
   ]
  },
  {
   "cell_type": "code",
   "execution_count": 26,
   "metadata": {
    "id": "mkBwFtYjI6I7",
    "outputId": "fc3bb69f-c8ad-4dc3-d0aa-fbba9663ffe1"
   },
   "outputs": [
    {
     "data": {
      "text/plain": [
       "[Document(page_content='Page 2 of 5 \\n \\n \\nSUMMARY \\nDedicated and passionate product expert with 8+ years of experience in various technical industries \\n(education, finance, agriculture). My major objective is to contribute to the business by utilizing my \\ntechnical and business management skillset. I am eager to improve my experience and knowledge in \\n delivering qualified digital products that provide value to clients and users.   \\nEDUCATION \\nMaster of Data Science and Artificial Intelligence (Msc in DSAI) \\n- \\nAsian Institute of Technology (2024-Currnet) \\n \\nBusiness Information Technology (BSc Hons) \\n• University of Greenwich (2011 - 2014) \\n \\nBachelor of Laws (LL. B)', metadata={'source': 'about-nca.pdf', 'file_path': 'about-nca.pdf', 'page': 1, 'total_pages': 5, 'format': 'PDF 1.4', 'title': '', 'author': '', 'subject': '', 'keywords': '', 'creator': '', 'producer': 'macOS Version 15.3.2 (Build 24D81) Quartz PDFContext', 'creationDate': \"D:20250316085053Z00'00'\", 'modDate': \"D:20250316085053Z00'00'\", 'trapped': ''}),\n",
       " Document(page_content='allowed me to migrate the hundred thousand user-generated datasets from the legacy system \\nto a completely new platform in 2021. \\n \\nI started my career in the tech industry as a developer while I was studying Business \\nInformation Technology. After that, I moved forward into product development and \\nmanagement when I found my enthusiasm for the art of product development lifecycle \\napplying Agile Methodology. However, I am still actively sharing the technical workload by \\nreviewing the source code for quality assurance and taking responsibility for the server \\ndeployment using different cloud service providers such as AWS, Microsoft Azure, and Digital \\nOcean.', metadata={'source': 'about-nca.pdf', 'file_path': 'about-nca.pdf', 'page': 0, 'total_pages': 5, 'format': 'PDF 1.4', 'title': '', 'author': '', 'subject': '', 'keywords': '', 'creator': '', 'producer': 'macOS Version 15.3.2 (Build 24D81) Quartz PDFContext', 'creationDate': \"D:20250316085053Z00'00'\", 'modDate': \"D:20250316085053Z00'00'\", 'trapped': ''}),\n",
       " Document(page_content='• University of Greenwich (2011 - 2014) \\n \\nBachelor of Laws (LL. B) \\n • Yangon University of Distance Education, Yangon, Myanmar (2007 - 2010) \\nWORK EXPERIENCE \\nProduct Manager \\nVillage Link Co. Ltd. \\nNov 2019 to Present \\n \\nJob Responsibility \\n• Assist the CEO in preparing product roadmaps for business development efforts. \\n• Prepare Product Requirement Documents (PRDs) to translate the high-level requirement into the \\ndeveloper-friendly functional specification for each value-added feature. \\n• Responsible for communicating product progress with the internal development team, vendors, \\nand various internal stakeholders weekly and monthly.', metadata={'source': 'about-nca.pdf', 'file_path': 'about-nca.pdf', 'page': 1, 'total_pages': 5, 'format': 'PDF 1.4', 'title': '', 'author': '', 'subject': '', 'keywords': '', 'creator': '', 'producer': 'macOS Version 15.3.2 (Build 24D81) Quartz PDFContext', 'creationDate': \"D:20250316085053Z00'00'\", 'modDate': \"D:20250316085053Z00'00'\", 'trapped': ''}),\n",
       " Document(page_content='Page 1 of 5 \\n \\nName: Nyein Chan Aung \\nPosition: Digital Product & Project Professional \\nAddress: Yangon, Myanmar \\nPhone: 091212121 \\n \\nMy name is Nyein Chan Aung. I was born in 7th Aug, 1990.  I’m currently working as a Product \\nManager at Village Link, one of the subsidiaries of Myanma Awba. I am mainly responsible for \\nproduct management, UI/UX research, user analysis, QA testing, and the product launch of our \\ncompany’s many products. I am leading the development of a delivery social agricultural \\nplatform with registered farmers. My ability to understand the system and database design \\nallowed me to migrate the hundred thousand user-generated datasets from the legacy system', metadata={'source': 'about-nca.pdf', 'file_path': 'about-nca.pdf', 'page': 0, 'total_pages': 5, 'format': 'PDF 1.4', 'title': '', 'author': '', 'subject': '', 'keywords': '', 'creator': '', 'producer': 'macOS Version 15.3.2 (Build 24D81) Quartz PDFContext', 'creationDate': \"D:20250316085053Z00'00'\", 'modDate': \"D:20250316085053Z00'00'\", 'trapped': ''})]"
      ]
     },
     "execution_count": 26,
     "metadata": {},
     "output_type": "execute_result"
    }
   ],
   "source": [
    "retriever.get_relevant_documents(\"What is your education background?\", top_k = 1)"
   ]
  },
  {
   "cell_type": "code",
   "execution_count": 27,
   "metadata": {
    "id": "FB-N2dWHI6I7",
    "outputId": "384deebc-620e-47d1-9759-d8f39a5ea162"
   },
   "outputs": [
    {
     "data": {
      "text/plain": [
       "[Document(page_content='Page 2 of 5 \\n \\n \\nSUMMARY \\nDedicated and passionate product expert with 8+ years of experience in various technical industries \\n(education, finance, agriculture). My major objective is to contribute to the business by utilizing my \\ntechnical and business management skillset. I am eager to improve my experience and knowledge in \\n delivering qualified digital products that provide value to clients and users.   \\nEDUCATION \\nMaster of Data Science and Artificial Intelligence (Msc in DSAI) \\n- \\nAsian Institute of Technology (2024-Currnet) \\n \\nBusiness Information Technology (BSc Hons) \\n• University of Greenwich (2011 - 2014) \\n \\nBachelor of Laws (LL. B)', metadata={'source': 'about-nca.pdf', 'file_path': 'about-nca.pdf', 'page': 1, 'total_pages': 5, 'format': 'PDF 1.4', 'title': '', 'author': '', 'subject': '', 'keywords': '', 'creator': '', 'producer': 'macOS Version 15.3.2 (Build 24D81) Quartz PDFContext', 'creationDate': \"D:20250316085053Z00'00'\", 'modDate': \"D:20250316085053Z00'00'\", 'trapped': ''}),\n",
       " Document(page_content='Page 3 of 5 \\n \\n• Collaborate with Product Lead on technical feasibility while mentoring senior and junior \\ndevelopers & designers on technical, design, and UI/UX. \\n• Responsible for communicating project progress to clients and various internal stakeholders \\nweekly. \\n• Collect the user experience survey and prepared the report with suggestions to revamp. \\n \\nProject Manager \\n360ed Edu Tech Co., Ltd.  \\nJune 2018 to March 2019 \\n \\nJob Responsibility \\n• Assist CTO in preparing projects proposal for the business development effort. \\n• Drive project management for cross-platform support (Web, Android, iOS).', metadata={'source': 'about-nca.pdf', 'file_path': 'about-nca.pdf', 'page': 2, 'total_pages': 5, 'format': 'PDF 1.4', 'title': '', 'author': '', 'subject': '', 'keywords': '', 'creator': '', 'producer': 'macOS Version 15.3.2 (Build 24D81) Quartz PDFContext', 'creationDate': \"D:20250316085053Z00'00'\", 'modDate': \"D:20250316085053Z00'00'\", 'trapped': ''}),\n",
       " Document(page_content='allowed me to migrate the hundred thousand user-generated datasets from the legacy system \\nto a completely new platform in 2021. \\n \\nI started my career in the tech industry as a developer while I was studying Business \\nInformation Technology. After that, I moved forward into product development and \\nmanagement when I found my enthusiasm for the art of product development lifecycle \\napplying Agile Methodology. However, I am still actively sharing the technical workload by \\nreviewing the source code for quality assurance and taking responsibility for the server \\ndeployment using different cloud service providers such as AWS, Microsoft Azure, and Digital \\nOcean.', metadata={'source': 'about-nca.pdf', 'file_path': 'about-nca.pdf', 'page': 0, 'total_pages': 5, 'format': 'PDF 1.4', 'title': '', 'author': '', 'subject': '', 'keywords': '', 'creator': '', 'producer': 'macOS Version 15.3.2 (Build 24D81) Quartz PDFContext', 'creationDate': \"D:20250316085053Z00'00'\", 'modDate': \"D:20250316085053Z00'00'\", 'trapped': ''}),\n",
       " Document(page_content='• University of Greenwich (2011 - 2014) \\n \\nBachelor of Laws (LL. B) \\n • Yangon University of Distance Education, Yangon, Myanmar (2007 - 2010) \\nWORK EXPERIENCE \\nProduct Manager \\nVillage Link Co. Ltd. \\nNov 2019 to Present \\n \\nJob Responsibility \\n• Assist the CEO in preparing product roadmaps for business development efforts. \\n• Prepare Product Requirement Documents (PRDs) to translate the high-level requirement into the \\ndeveloper-friendly functional specification for each value-added feature. \\n• Responsible for communicating product progress with the internal development team, vendors, \\nand various internal stakeholders weekly and monthly.', metadata={'source': 'about-nca.pdf', 'file_path': 'about-nca.pdf', 'page': 1, 'total_pages': 5, 'format': 'PDF 1.4', 'title': '', 'author': '', 'subject': '', 'keywords': '', 'creator': '', 'producer': 'macOS Version 15.3.2 (Build 24D81) Quartz PDFContext', 'creationDate': \"D:20250316085053Z00'00'\", 'modDate': \"D:20250316085053Z00'00'\", 'trapped': ''})]"
      ]
     },
     "execution_count": 27,
     "metadata": {},
     "output_type": "execute_result"
    }
   ],
   "source": [
    "retriever.get_relevant_documents(\"What is your working experience?\", top_k = 1)"
   ]
  },
  {
   "cell_type": "markdown",
   "metadata": {
    "id": "Ds2cPy6VI6I7"
   },
   "source": [
    "## 3. Memory\n",
    "\n",
    "One of the core utility classes underpinning most (if not all) memory modules is the ChatMessageHistory class. This is a super lightweight wrapper that provides convenience methods for saving HumanMessages, AIMessages, and then fetching them all.\n",
    "\n",
    "You may want to use this class directly if you are managing memory outside of a chain.\n"
   ]
  },
  {
   "cell_type": "code",
   "execution_count": 28,
   "metadata": {
    "id": "da53PENfI6I7",
    "outputId": "037916d8-e747-4dd6-cc2c-b5b73da1f967"
   },
   "outputs": [
    {
     "data": {
      "text/plain": [
       "ChatMessageHistory(messages=[])"
      ]
     },
     "execution_count": 28,
     "metadata": {},
     "output_type": "execute_result"
    }
   ],
   "source": [
    "from langchain.memory import ChatMessageHistory\n",
    "\n",
    "history = ChatMessageHistory()\n",
    "history"
   ]
  },
  {
   "cell_type": "code",
   "execution_count": 29,
   "metadata": {
    "id": "uDZuLLyhI6I7"
   },
   "outputs": [],
   "source": [
    "history.add_user_message('hi')\n",
    "history.add_ai_message('Whats up?')\n",
    "history.add_user_message('How are you')\n",
    "history.add_ai_message('I\\'m quite good. How about you?')"
   ]
  },
  {
   "cell_type": "code",
   "execution_count": 30,
   "metadata": {
    "id": "uDZuLLyhI6I7",
    "outputId": "a3753f5b-3a37-48f0-f6e1-ee8218860dc6"
   },
   "outputs": [
    {
     "data": {
      "text/plain": [
       "ChatMessageHistory(messages=[HumanMessage(content='hi'), AIMessage(content='Whats up?'), HumanMessage(content='How are you'), AIMessage(content=\"I'm quite good. How about you?\")])"
      ]
     },
     "execution_count": 30,
     "metadata": {},
     "output_type": "execute_result"
    }
   ],
   "source": [
    "history"
   ]
  },
  {
   "cell_type": "markdown",
   "metadata": {
    "id": "BFyzrrgKI6I8"
   },
   "source": [
    "### 3.1 Memory types\n",
    "\n",
    "There are many different types of memory. Each has their own parameters, their own return types, and is useful in different scenarios.\n",
    "- Converstaion Buffer\n",
    "- Converstaion Buffer Window"
   ]
  },
  {
   "cell_type": "markdown",
   "metadata": {
    "id": "I__8ljjxI6I8"
   },
   "source": [
    "What variables get returned from memory\n",
    "\n",
    "Before going into the chain, various variables are read from memory. These have specific names which need to align with the variables the chain expects. You can see what these variables are by calling memory.load_memory_variables({}). Note that the empty dictionary that we pass in is just a placeholder for real variables. If the memory type you are using is dependent upon the input variables, you may need to pass some in."
   ]
  },
  {
   "cell_type": "markdown",
   "metadata": {
    "id": "5f8gazxKI6I8"
   },
   "source": [
    "In this case, you can see that load_memory_variables returns a single key, history. This means that your chain (and likely your prompt) should expect an input named history. You can usually control this variable through parameters on the memory class. For example, if you want the memory variables to be returned in the key chat_history you can do:"
   ]
  },
  {
   "cell_type": "markdown",
   "metadata": {
    "id": "XgU_VNheI6I8"
   },
   "source": [
    "#### Converstaion Buffer\n",
    "This memory allows for storing messages and then extracts the messages in a variable."
   ]
  },
  {
   "cell_type": "code",
   "execution_count": 31,
   "metadata": {
    "id": "SkRQemhBI6I8"
   },
   "outputs": [
    {
     "data": {
      "text/plain": [
       "{'history': \"Human: hi\\nAI: What's up?\\nHuman: How are you?\\nAI: I'm quite good. How about you?\"}"
      ]
     },
     "execution_count": 31,
     "metadata": {},
     "output_type": "execute_result"
    }
   ],
   "source": [
    "from langchain.memory import ConversationBufferMemory\n",
    "\n",
    "memory = ConversationBufferMemory()\n",
    "memory.save_context({'input':'hi'}, {'output':'What\\'s up?'})\n",
    "memory.save_context({\"input\":'How are you?'},{'output': 'I\\'m quite good. How about you?'})\n",
    "memory.load_memory_variables({})"
   ]
  },
  {
   "cell_type": "code",
   "execution_count": 32,
   "metadata": {
    "id": "SkRQemhBI6I8",
    "outputId": "22155522-3fea-48f4-a878-d5ad8d097b51"
   },
   "outputs": [
    {
     "data": {
      "text/plain": [
       "{'history': [HumanMessage(content='hi'),\n",
       "  AIMessage(content=\"What's up?\"),\n",
       "  HumanMessage(content='How are you?'),\n",
       "  AIMessage(content=\"I'm quite good. How about you?\")]}"
      ]
     },
     "execution_count": 32,
     "metadata": {},
     "output_type": "execute_result"
    }
   ],
   "source": [
    "from langchain.memory import ConversationBufferMemory\n",
    "\n",
    "memory = ConversationBufferMemory(return_messages = True)\n",
    "memory.save_context({'input':'hi'}, {'output':'What\\'s up?'})\n",
    "memory.save_context({\"input\":'How are you?'},{'output': 'I\\'m quite good. How about you?'})\n",
    "memory.load_memory_variables({})"
   ]
  },
  {
   "cell_type": "markdown",
   "metadata": {
    "id": "xPE6LOmgI6JC"
   },
   "source": [
    "#### Conversation Buffer Window\n",
    "- it keeps a list of the interactions of the conversation over time.\n",
    "- it only uses the last K interactions.\n",
    "- it can be useful for keeping a sliding window of the most recent interactions, so the buffer does not get too large."
   ]
  },
  {
   "cell_type": "code",
   "execution_count": 33,
   "metadata": {
    "id": "xPE6LOmgI6JC",
    "outputId": "4cb2ccad-3bef-4d32-e722-7242e4b2f622"
   },
   "outputs": [
    {
     "data": {
      "text/plain": [
       "{'history': \"Human: How are you?\\nAI: I'm quite good. How about you?\"}"
      ]
     },
     "execution_count": 33,
     "metadata": {},
     "output_type": "execute_result"
    }
   ],
   "source": [
    "from langchain.memory import ConversationBufferWindowMemory\n",
    "\n",
    "memory = ConversationBufferWindowMemory(k=1)\n",
    "memory.save_context({'input':'hi'}, {'output':'What\\'s up?'})\n",
    "memory.save_context({\"input\":'How are you?'},{'output': 'I\\'m quite good. How about you?'})\n",
    "memory.load_memory_variables({})"
   ]
  },
  {
   "cell_type": "markdown",
   "metadata": {
    "id": "OHHzFHzXI6JC"
   },
   "source": [
    "## 4. Chain\n",
    "\n",
    "Using an LLM in isolation is fine for simple applications, but more complex applications require chaining LLMs - either with each other or with other components.\n",
    "\n",
    "An `LLMChain` is a simple chain that adds some functionality around language models.\n",
    "- it consists of a `PromptTemplate` and a `LM` (either an LLM or chat model).\n",
    "- it formats the prompt template using the input key values provided (and also memory key values, if available),\n",
    "- it passes the formatted string to LLM and returns the LLM output.\n",
    "\n",
    "Note : [Download Fastchat Model Here](https://huggingface.co/lmsys/fastchat-t5-3b-v1.0)"
   ]
  },
  {
   "cell_type": "code",
   "execution_count": 34,
   "metadata": {
    "id": "DudpMM7RI6JC"
   },
   "outputs": [],
   "source": [
    "# !pip install protobuf"
   ]
  },
  {
   "cell_type": "code",
   "execution_count": 35,
   "metadata": {
    "id": "DudpMM7RI6JC",
    "outputId": "79b16fa5-25a9-4629-b4f0-50c90c835c30"
   },
   "outputs": [],
   "source": [
    "# from transformers import AutoTokenizer, pipeline, AutoModelForSeq2SeqLM\n",
    "# from transformers import BitsAndBytesConfig\n",
    "# from langchain import HuggingFacePipeline\n",
    "# import torch\n",
    "\n",
    "# model_id = 'fastchat-t5-3b-v1.0/'\n",
    "\n",
    "# tokenizer = AutoTokenizer.from_pretrained(\n",
    "#     model_id)\n",
    "\n",
    "# tokenizer.pad_token_id = tokenizer.eos_token_id\n",
    "\n",
    "# bitsandbyte_config = BitsAndBytesConfig(\n",
    "#     load_in_4bit = True,\n",
    "#     bnb_4bit_quant_type = \"nf4\",\n",
    "#     bnb_4bit_compute_dtype = torch.float16,\n",
    "#     bnb_4bit_use_double_quant = True\n",
    "# )\n",
    "\n",
    "# model = AutoModelForSeq2SeqLM.from_pretrained(\n",
    "#     model_id,\n",
    "#     quantization_config = bitsandbyte_config, #caution Nvidia\n",
    "#     device_map = 'auto',\n",
    "#     load_in_8bit = True\n",
    "# )\n",
    "\n",
    "# pipe = pipeline(\n",
    "#     task=\"text2text-generation\",\n",
    "#     model=model,\n",
    "#     tokenizer=tokenizer,\n",
    "#     max_new_tokens = 256,\n",
    "#     model_kwargs = {\n",
    "#         \"temperature\" : 0,\n",
    "#         \"repetition_penalty\": 1.5\n",
    "#     }\n",
    "# )\n",
    "\n",
    "# llm = HuggingFacePipeline(pipeline = pipe)"
   ]
  },
  {
   "cell_type": "code",
   "execution_count": 36,
   "metadata": {},
   "outputs": [],
   "source": [
    "# !pip install safetensors"
   ]
  },
  {
   "cell_type": "code",
   "execution_count": 37,
   "metadata": {},
   "outputs": [],
   "source": [
    "# from transformers import AutoTokenizer, pipeline, AutoModelForSeq2SeqLM\n",
    "# from langchain import HuggingFacePipeline\n",
    "# import torch\n",
    "\n",
    "# # Use a smaller model (e.g., t5-small)\n",
    "# model_id = 't5-small'\n",
    "\n",
    "# # Load the tokenizer\n",
    "# tokenizer = AutoTokenizer.from_pretrained(model_id)\n",
    "# tokenizer.pad_token_id = tokenizer.eos_token_id\n",
    "\n",
    "# # Load the model\n",
    "# model = AutoModelForSeq2SeqLM.from_pretrained(\n",
    "#     model_id,\n",
    "#     device_map='auto',  # Automatically map to CPU or GPU\n",
    "#     torch_dtype=torch.float32  # Use FP32 for CPU\n",
    "# )\n",
    "\n",
    "# # Create a text generation pipeline\n",
    "# pipe = pipeline(\n",
    "#     task=\"text2text-generation\",\n",
    "#     model=model,\n",
    "#     tokenizer=tokenizer,\n",
    "#     max_new_tokens=256,\n",
    "#     model_kwargs={\n",
    "#         \"temperature\": 0,\n",
    "#         \"repetition_penalty\": 1.5\n",
    "#     }\n",
    "# )\n",
    "\n",
    "# # Wrap the pipeline in LangChain's HuggingFacePipeline\n",
    "# llm = HuggingFacePipeline(pipeline=pipe)"
   ]
  },
  {
   "cell_type": "code",
   "execution_count": 38,
   "metadata": {},
   "outputs": [],
   "source": [
    "# from transformers import AutoTokenizer, AutoModelForCausalLM\n",
    "\n",
    "# # Load the TinyLlama model and tokenizer\n",
    "# model_id = \"TinyLlama/TinyLlama-1.1B-Chat-v1.0\"\n",
    "# tokenizer = AutoTokenizer.from_pretrained(model_id)\n",
    "# model = AutoModelForCausalLM.from_pretrained(model_id)"
   ]
  },
  {
   "cell_type": "code",
   "execution_count": 39,
   "metadata": {},
   "outputs": [],
   "source": [
    "# from transformers import pipeline\n",
    "\n",
    "# # Create a text generation pipeline with greedy decoding\n",
    "# pipe = pipeline(\n",
    "#     task=\"text-generation\",\n",
    "#     model=model,\n",
    "#     tokenizer=tokenizer,\n",
    "#     max_new_tokens=100,\n",
    "#     do_sample=False,  # Disable sampling (greedy decoding)\n",
    "#     repetition_penalty=1.5  # Penalize repeated tokens\n",
    "# )\n",
    "\n",
    "# # Generate text\n",
    "# input_text = \"What is your name?\"\n",
    "# output = pipe(input_text)\n",
    "# print(output[0]['generated_text'])"
   ]
  },
  {
   "cell_type": "code",
   "execution_count": 45,
   "metadata": {},
   "outputs": [
    {
     "name": "stderr",
     "output_type": "stream",
     "text": [
      "generation_config.json: 100%|██████████| 142/142 [00:00<00:00, 53.9kB/s]\n",
      "pytorch_model.bin.index.json: 100%|██████████| 50.8k/50.8k [00:00<00:00, 13.1MB/s]\n",
      "README.md: 100%|██████████| 1.98k/1.98k [00:00<00:00, 1.08MB/s]\n",
      ".gitattributes: 100%|██████████| 1.48k/1.48k [00:00<00:00, 983kB/s]\n",
      "Fetching 10 files: 100%|██████████| 10/10 [00:01<00:00,  5.94it/s]"
     ]
    },
    {
     "name": "stdout",
     "output_type": "stream",
     "text": [
      "Model downloaded to: /Users/nyeinchanaung/.cache/huggingface/hub/models--lmsys--fastchat-t5-3b-v1.0/snapshots/0b1da230a891854102d749b93f7ddf1f18a81024\n"
     ]
    },
    {
     "name": "stderr",
     "output_type": "stream",
     "text": [
      "\n"
     ]
    }
   ],
   "source": [
    "from huggingface_hub import snapshot_download\n",
    "\n",
    "# Download the model files\n",
    "model_path = snapshot_download(repo_id='lmsys/fastchat-t5-3b-v1.0')\n",
    "print(f\"Model downloaded to: {model_path}\")"
   ]
  },
  {
   "cell_type": "code",
   "execution_count": 46,
   "metadata": {},
   "outputs": [
    {
     "name": "stderr",
     "output_type": "stream",
     "text": [
      "Special tokens have been added in the vocabulary, make sure the associated word embeddings are fine-tuned or trained.\n",
      "Special tokens have been added in the vocabulary, make sure the associated word embeddings are fine-tuned or trained.\n"
     ]
    }
   ],
   "source": [
    "from transformers import AutoTokenizer, AutoModelForSeq2SeqLM\n",
    "\n",
    "# Load the tokenizer and model\n",
    "tokenizer = AutoTokenizer.from_pretrained(model_path)\n",
    "model = AutoModelForSeq2SeqLM.from_pretrained(model_path)"
   ]
  },
  {
   "cell_type": "code",
   "execution_count": 48,
   "metadata": {},
   "outputs": [
    {
     "name": "stderr",
     "output_type": "stream",
     "text": [
      "WARNING:root:Some parameters are on the meta device device because they were offloaded to the disk.\n"
     ]
    }
   ],
   "source": [
    "from transformers import AutoTokenizer, pipeline, AutoModelForSeq2SeqLM\n",
    "from langchain import HuggingFacePipeline\n",
    "import torch\n",
    "\n",
    "# Create an offload folder\n",
    "os.makedirs(\"./offload\", exist_ok=True)\n",
    "\n",
    "# Load the model\n",
    "model = AutoModelForSeq2SeqLM.from_pretrained(\n",
    "    model_path,\n",
    "    device_map='auto',\n",
    "    offload_folder=\"./offload\",  # Specify the offload folder\n",
    "    torch_dtype=torch.float32  # Use FP32 for CPU\n",
    ")\n",
    "\n",
    "# Create a text generation pipeline\n",
    "pipe = pipeline(\n",
    "    task=\"text2text-generation\",\n",
    "    model=model,\n",
    "    tokenizer=tokenizer,\n",
    "    max_new_tokens=256,\n",
    "    model_kwargs={\n",
    "        \"temperature\": 0,\n",
    "        \"repetition_penalty\": 1.5\n",
    "    }\n",
    ")\n",
    "\n",
    "# Wrap the pipeline in LangChain's HuggingFacePipeline\n",
    "llm = HuggingFacePipeline(pipeline=pipe)"
   ]
  },
  {
   "cell_type": "code",
   "execution_count": 49,
   "metadata": {},
   "outputs": [],
   "source": [
    "# from transformers import AutoTokenizer, pipeline, AutoModelForSeq2SeqLM\n",
    "# from transformers import BitsAndBytesConfig\n",
    "# from langchain import HuggingFacePipeline\n",
    "# import torch\n",
    "\n",
    "# model_id = 'fastchat-t5-3b-v1.0/'\n",
    "\n",
    "# tokenizer = AutoTokenizer.from_pretrained(model_id)\n",
    "# tokenizer.pad_token_id = tokenizer.eos_token_id\n",
    "\n",
    "# # Remove BitsAndBytesConfig (needed only for GPU quantization)\n",
    "# model = AutoModelForSeq2SeqLM.from_pretrained(\n",
    "#     model_id,\n",
    "#     device_map=None,  # Force CPU\n",
    "#     load_in_8bit=False  # Disable 8-bit quantization\n",
    "# )\n",
    "\n",
    "# pipe = pipeline(\n",
    "#     task=\"text2text-generation\",\n",
    "#     model=model,\n",
    "#     tokenizer=tokenizer,\n",
    "#     max_new_tokens=256,\n",
    "#     model_kwargs={\n",
    "#         \"temperature\": 0,\n",
    "#         \"repetition_penalty\": 1.5\n",
    "#     }\n",
    "# )\n",
    "\n",
    "# llm = HuggingFacePipeline(pipeline=pipe)"
   ]
  },
  {
   "cell_type": "code",
   "execution_count": 172,
   "metadata": {},
   "outputs": [
    {
     "name": "stdout",
     "output_type": "stream",
     "text": [
      "\n",
      "I'm Sarah. How can I help you today, Ms. Johnson?\"\n"
     ]
    }
   ],
   "source": [
    "from langchain import HuggingFacePipeline\n",
    "\n",
    "# Wrap the pipeline in LangChain's HuggingFacePipeline\n",
    "llm = HuggingFacePipeline(pipeline=pipe)\n",
    "\n",
    "# Use the LLM in LangChain\n",
    "response = llm(\"What is your name?\")\n",
    "print(response)"
   ]
  },
  {
   "cell_type": "code",
   "execution_count": 156,
   "metadata": {},
   "outputs": [],
   "source": [
    "# # Define the retrieval chain\n",
    "\n",
    "# llm = HuggingFacePipeline.from_model_id(\"TinyLlama/TinyLlama-1.1B-Chat-v1.0\", task=\"text-generation\", device=-1)\n"
   ]
  },
  {
   "cell_type": "markdown",
   "metadata": {
    "id": "CxNCGXMtI6JD"
   },
   "source": [
    "### [Class ConversationalRetrievalChain](https://api.python.langchain.com/en/latest/_modules/langchain/chains/conversational_retrieval/base.html#ConversationalRetrievalChain)\n",
    "\n",
    "- `retriever` : Retriever to use to fetch documents.\n",
    "\n",
    "- `combine_docs_chain` : The chain used to combine any retrieved documents.\n",
    "\n",
    "- `question_generator`: The chain used to generate a new question for the sake of retrieval. This chain will take in the current question (with variable question) and any chat history (with variable chat_history) and will produce a new standalone question to be used later on.\n",
    "\n",
    "- `return_source_documents` : Return the retrieved source documents as part of the final result.\n",
    "\n",
    "- `get_chat_history` : An optional function to get a string of the chat history. If None is provided, will use a default.\n",
    "\n",
    "- `return_generated_question` : Return the generated question as part of the final result.\n",
    "\n",
    "- `response_if_no_docs_found` : If specified, the chain will return a fixed response if no docs are found for the question.\n"
   ]
  },
  {
   "cell_type": "markdown",
   "metadata": {
    "id": "JauEuNonI6JD"
   },
   "source": [
    "`question_generator`"
   ]
  },
  {
   "cell_type": "code",
   "execution_count": 50,
   "metadata": {
    "id": "PKrNNP5sI6JD"
   },
   "outputs": [],
   "source": [
    "from langchain.chains import LLMChain\n",
    "from langchain.chains.conversational_retrieval.prompts import CONDENSE_QUESTION_PROMPT\n",
    "from langchain.memory import ConversationBufferWindowMemory\n",
    "from langchain.chains.question_answering import load_qa_chain\n",
    "from langchain.chains import ConversationalRetrievalChain"
   ]
  },
  {
   "cell_type": "code",
   "execution_count": 51,
   "metadata": {
    "id": "T5lWvlb-I6JD"
   },
   "outputs": [
    {
     "data": {
      "text/plain": [
       "PromptTemplate(input_variables=['chat_history', 'question'], template='Given the following conversation and a follow up question, rephrase the follow up question to be a standalone question, in its original language.\\n\\nChat History:\\n{chat_history}\\nFollow Up Input: {question}\\nStandalone question:')"
      ]
     },
     "execution_count": 51,
     "metadata": {},
     "output_type": "execute_result"
    }
   ],
   "source": [
    "CONDENSE_QUESTION_PROMPT"
   ]
  },
  {
   "cell_type": "code",
   "execution_count": 52,
   "metadata": {
    "id": "NdKIGOTAI6JD"
   },
   "outputs": [],
   "source": [
    "question_generator = LLMChain(\n",
    "    llm = llm,\n",
    "    prompt = CONDENSE_QUESTION_PROMPT,\n",
    "    verbose = True\n",
    ")"
   ]
  },
  {
   "cell_type": "code",
   "execution_count": 53,
   "metadata": {
    "id": "0CP726yQI6JD"
   },
   "outputs": [],
   "source": [
    "# query = 'Comparing both of them'\n",
    "# chat_history = \"Human:What is Machine Learning\\nAI:\\nHuman:What is Deep Learning\\nAI:\"\n",
    "\n",
    "# question_generator({'chat_history' : chat_history, \"question\" : query})"
   ]
  },
  {
   "cell_type": "markdown",
   "metadata": {
    "id": "pJkSytuWI6JD"
   },
   "source": [
    "`combine_docs_chain`"
   ]
  },
  {
   "cell_type": "code",
   "execution_count": 54,
   "metadata": {
    "id": "SlQu2RSSI6JD"
   },
   "outputs": [
    {
     "data": {
      "text/plain": [
       "StuffDocumentsChain(verbose=True, llm_chain=LLMChain(verbose=True, prompt=PromptTemplate(input_variables=['context', 'question'], template=\"You are AI assistance and you need to answer the user's question according to the context given.\\n    {context}\\n    Question: {question}\\n    Answer:\"), llm=HuggingFacePipeline(pipeline=<transformers.pipelines.text2text_generation.Text2TextGenerationPipeline object at 0x5e572dbe0>)), document_variable_name='context')"
      ]
     },
     "execution_count": 54,
     "metadata": {},
     "output_type": "execute_result"
    }
   ],
   "source": [
    "\n",
    "doc_chain = PromptTemplate(\n",
    "    input_variables=[\"context\", \"question\"],\n",
    "    template=\"Answer the question based on the context below. If the context does not contain the answer, say 'I don't know.'\\n\\nContext:\\n{context}\\n\\nQuestion:\\n{question}\\n\\nAnswer:\",\n",
    ")\n",
    "\n",
    "doc_chain = load_qa_chain(\n",
    "    llm = llm,\n",
    "    chain_type = 'stuff',\n",
    "    prompt = PROMPT,\n",
    "    verbose = True\n",
    ")\n",
    "doc_chain"
   ]
  },
  {
   "cell_type": "code",
   "execution_count": 55,
   "metadata": {
    "id": "7hRuDBqTI6JD",
    "scrolled": true
   },
   "outputs": [
    {
     "name": "stdout",
     "output_type": "stream",
     "text": [
      "\n",
      "\n",
      "\u001b[1m> Entering new StuffDocumentsChain chain...\u001b[0m\n",
      "\n",
      "\n",
      "\u001b[1m> Entering new LLMChain chain...\u001b[0m\n",
      "Prompt after formatting:\n",
      "\u001b[32;1m\u001b[1;3mYou are AI assistance and you need to answer the user's question according to the context given.\n",
      "    Page 1 of 5 \n",
      " \n",
      "Name: Nyein Chan Aung \n",
      "Position: Digital Product & Project Professional \n",
      "Address: Yangon, Myanmar \n",
      "Phone: 091212121 \n",
      " \n",
      "My name is Nyein Chan Aung. I was born in 7th Aug, 1990.  I’m currently working as a Product \n",
      "Manager at Village Link, one of the subsidiaries of Myanma Awba. I am mainly responsible for \n",
      "product management, UI/UX research, user analysis, QA testing, and the product launch of our \n",
      "company’s many products. I am leading the development of a delivery social agricultural \n",
      "platform with registered farmers. My ability to understand the system and database design \n",
      "allowed me to migrate the hundred thousand user-generated datasets from the legacy system\n",
      "\n",
      "allowed me to migrate the hundred thousand user-generated datasets from the legacy system \n",
      "to a completely new platform in 2021. \n",
      " \n",
      "I started my career in the tech industry as a developer while I was studying Business \n",
      "Information Technology. After that, I moved forward into product development and \n",
      "management when I found my enthusiasm for the art of product development lifecycle \n",
      "applying Agile Methodology. However, I am still actively sharing the technical workload by \n",
      "reviewing the source code for quality assurance and taking responsibility for the server \n",
      "deployment using different cloud service providers such as AWS, Microsoft Azure, and Digital \n",
      "Ocean.\n",
      "\n",
      "Page 2 of 5 \n",
      " \n",
      " \n",
      "SUMMARY \n",
      "Dedicated and passionate product expert with 8+ years of experience in various technical industries \n",
      "(education, finance, agriculture). My major objective is to contribute to the business by utilizing my \n",
      "technical and business management skillset. I am eager to improve my experience and knowledge in \n",
      " delivering qualified digital products that provide value to clients and users.   \n",
      "EDUCATION \n",
      "Master of Data Science and Artificial Intelligence (Msc in DSAI) \n",
      "- \n",
      "Asian Institute of Technology (2024-Currnet) \n",
      " \n",
      "Business Information Technology (BSc Hons) \n",
      "• University of Greenwich (2011 - 2014) \n",
      " \n",
      "Bachelor of Laws (LL. B)\n",
      "\n",
      "Ocean. \n",
      " \n",
      "I have experience organizing hackathons a few years back from now, before the pandemic. We \n",
      "also initiated the UniHackChallenge hackathon series that focused on university students \n",
      "applying their skills from the classroom to real-world problems. I contributed as a mentor such \n",
      "as The Hackathon 2018 and 2019 organized by Ooredoo Myanmar, AngelHack Hackathon \n",
      "Myanmar 2018. \n",
      " \n",
      "Moreover, I participated in several hackathons related to my career. Along the journey, I was \n",
      "awarded the second prize in the YIC AG-Hack Hackathon, which was designed to ideate \n",
      "solutions that support the Agri-sector, organized by Seedstars, powered by Myanma Awba in\n",
      "    Question: What is your name?\n",
      "    Answer:\u001b[0m\n",
      "\n",
      "\u001b[1m> Finished chain.\u001b[0m\n",
      "\n",
      "\u001b[1m> Finished chain.\u001b[0m\n"
     ]
    },
    {
     "data": {
      "text/plain": [
       "{'input_documents': [Document(page_content='Page 1 of 5 \\n \\nName: Nyein Chan Aung \\nPosition: Digital Product & Project Professional \\nAddress: Yangon, Myanmar \\nPhone: 091212121 \\n \\nMy name is Nyein Chan Aung. I was born in 7th Aug, 1990.  I’m currently working as a Product \\nManager at Village Link, one of the subsidiaries of Myanma Awba. I am mainly responsible for \\nproduct management, UI/UX research, user analysis, QA testing, and the product launch of our \\ncompany’s many products. I am leading the development of a delivery social agricultural \\nplatform with registered farmers. My ability to understand the system and database design \\nallowed me to migrate the hundred thousand user-generated datasets from the legacy system', metadata={'source': 'about-nca.pdf', 'file_path': 'about-nca.pdf', 'page': 0, 'total_pages': 5, 'format': 'PDF 1.4', 'title': '', 'author': '', 'subject': '', 'keywords': '', 'creator': '', 'producer': 'macOS Version 15.3.2 (Build 24D81) Quartz PDFContext', 'creationDate': \"D:20250316085053Z00'00'\", 'modDate': \"D:20250316085053Z00'00'\", 'trapped': ''}),\n",
       "  Document(page_content='allowed me to migrate the hundred thousand user-generated datasets from the legacy system \\nto a completely new platform in 2021. \\n \\nI started my career in the tech industry as a developer while I was studying Business \\nInformation Technology. After that, I moved forward into product development and \\nmanagement when I found my enthusiasm for the art of product development lifecycle \\napplying Agile Methodology. However, I am still actively sharing the technical workload by \\nreviewing the source code for quality assurance and taking responsibility for the server \\ndeployment using different cloud service providers such as AWS, Microsoft Azure, and Digital \\nOcean.', metadata={'source': 'about-nca.pdf', 'file_path': 'about-nca.pdf', 'page': 0, 'total_pages': 5, 'format': 'PDF 1.4', 'title': '', 'author': '', 'subject': '', 'keywords': '', 'creator': '', 'producer': 'macOS Version 15.3.2 (Build 24D81) Quartz PDFContext', 'creationDate': \"D:20250316085053Z00'00'\", 'modDate': \"D:20250316085053Z00'00'\", 'trapped': ''}),\n",
       "  Document(page_content='Page 2 of 5 \\n \\n \\nSUMMARY \\nDedicated and passionate product expert with 8+ years of experience in various technical industries \\n(education, finance, agriculture). My major objective is to contribute to the business by utilizing my \\ntechnical and business management skillset. I am eager to improve my experience and knowledge in \\n delivering qualified digital products that provide value to clients and users.   \\nEDUCATION \\nMaster of Data Science and Artificial Intelligence (Msc in DSAI) \\n- \\nAsian Institute of Technology (2024-Currnet) \\n \\nBusiness Information Technology (BSc Hons) \\n• University of Greenwich (2011 - 2014) \\n \\nBachelor of Laws (LL. B)', metadata={'source': 'about-nca.pdf', 'file_path': 'about-nca.pdf', 'page': 1, 'total_pages': 5, 'format': 'PDF 1.4', 'title': '', 'author': '', 'subject': '', 'keywords': '', 'creator': '', 'producer': 'macOS Version 15.3.2 (Build 24D81) Quartz PDFContext', 'creationDate': \"D:20250316085053Z00'00'\", 'modDate': \"D:20250316085053Z00'00'\", 'trapped': ''}),\n",
       "  Document(page_content='Ocean. \\n \\nI have experience organizing hackathons a few years back from now, before the pandemic. We \\nalso initiated the UniHackChallenge hackathon series that focused on university students \\napplying their skills from the classroom to real-world problems. I contributed as a mentor such \\nas The Hackathon 2018 and 2019 organized by Ooredoo Myanmar, AngelHack Hackathon \\nMyanmar 2018. \\n \\nMoreover, I participated in several hackathons related to my career. Along the journey, I was \\nawarded the second prize in the YIC AG-Hack Hackathon, which was designed to ideate \\nsolutions that support the Agri-sector, organized by Seedstars, powered by Myanma Awba in', metadata={'source': 'about-nca.pdf', 'file_path': 'about-nca.pdf', 'page': 0, 'total_pages': 5, 'format': 'PDF 1.4', 'title': '', 'author': '', 'subject': '', 'keywords': '', 'creator': '', 'producer': 'macOS Version 15.3.2 (Build 24D81) Quartz PDFContext', 'creationDate': \"D:20250316085053Z00'00'\", 'modDate': \"D:20250316085053Z00'00'\", 'trapped': ''})],\n",
       " 'question': 'What is your name?',\n",
       " 'output_text': '<pad>  My  name  is  Nyein  Chan  Aung.\\n'}"
      ]
     },
     "execution_count": 55,
     "metadata": {},
     "output_type": "execute_result"
    }
   ],
   "source": [
    "query = \"What is your name?\"\n",
    "input_document = retriever.get_relevant_documents(query)\n",
    "\n",
    "doc_chain({'input_documents':input_document, 'question':query})"
   ]
  },
  {
   "cell_type": "code",
   "execution_count": 56,
   "metadata": {
    "id": "rJB4U_KAI6JD"
   },
   "outputs": [
    {
     "data": {
      "text/plain": [
       "ConversationalRetrievalChain(memory=ConversationBufferWindowMemory(output_key='answer', return_messages=True, memory_key='chat_history', k=3), verbose=True, combine_docs_chain=StuffDocumentsChain(verbose=True, llm_chain=LLMChain(verbose=True, prompt=PromptTemplate(input_variables=['context', 'question'], template=\"You are AI assistance and you need to answer the user's question according to the context given.\\n    {context}\\n    Question: {question}\\n    Answer:\"), llm=HuggingFacePipeline(pipeline=<transformers.pipelines.text2text_generation.Text2TextGenerationPipeline object at 0x5e572dbe0>)), document_variable_name='context'), question_generator=LLMChain(verbose=True, prompt=PromptTemplate(input_variables=['chat_history', 'question'], template='Given the following conversation and a follow up question, rephrase the follow up question to be a standalone question, in its original language.\\n\\nChat History:\\n{chat_history}\\nFollow Up Input: {question}\\nStandalone question:'), llm=HuggingFacePipeline(pipeline=<transformers.pipelines.text2text_generation.Text2TextGenerationPipeline object at 0x5e572dbe0>)), return_source_documents=True, get_chat_history=<function <lambda> at 0x5e576ef70>, retriever=VectorStoreRetriever(tags=['FAISS', 'HuggingFaceInstructEmbeddings'], vectorstore=<langchain_community.vectorstores.faiss.FAISS object at 0x106a838e0>))"
      ]
     },
     "execution_count": 56,
     "metadata": {},
     "output_type": "execute_result"
    }
   ],
   "source": [
    "memory = ConversationBufferWindowMemory(\n",
    "    k=3,\n",
    "    memory_key = \"chat_history\",\n",
    "    return_messages = True,\n",
    "    output_key = 'answer'\n",
    ")\n",
    "\n",
    "chain = ConversationalRetrievalChain(\n",
    "    retriever=retriever,\n",
    "    question_generator=question_generator,\n",
    "    combine_docs_chain=doc_chain,\n",
    "    return_source_documents=True,\n",
    "    memory=memory,\n",
    "    verbose=True,\n",
    "    get_chat_history=lambda h : h\n",
    ")\n",
    "chain"
   ]
  },
  {
   "cell_type": "markdown",
   "metadata": {
    "id": "_v-Iaqh6I6JD"
   },
   "source": [
    "## 5. Chatbot"
   ]
  },
  {
   "cell_type": "code",
   "execution_count": 57,
   "metadata": {
    "id": "CFh3jrOaI6JE"
   },
   "outputs": [
    {
     "name": "stdout",
     "output_type": "stream",
     "text": [
      "\n",
      "\n",
      "\u001b[1m> Entering new ConversationalRetrievalChain chain...\u001b[0m\n",
      "\n",
      "\n",
      "\u001b[1m> Entering new StuffDocumentsChain chain...\u001b[0m\n",
      "\n",
      "\n",
      "\u001b[1m> Entering new LLMChain chain...\u001b[0m\n",
      "Prompt after formatting:\n",
      "\u001b[32;1m\u001b[1;3mYou are AI assistance and you need to answer the user's question according to the context given.\n",
      "    Page 1 of 5 \n",
      " \n",
      "Name: Nyein Chan Aung \n",
      "Position: Digital Product & Project Professional \n",
      "Address: Yangon, Myanmar \n",
      "Phone: 091212121 \n",
      " \n",
      "My name is Nyein Chan Aung. I was born in 7th Aug, 1990.  I’m currently working as a Product \n",
      "Manager at Village Link, one of the subsidiaries of Myanma Awba. I am mainly responsible for \n",
      "product management, UI/UX research, user analysis, QA testing, and the product launch of our \n",
      "company’s many products. I am leading the development of a delivery social agricultural \n",
      "platform with registered farmers. My ability to understand the system and database design \n",
      "allowed me to migrate the hundred thousand user-generated datasets from the legacy system\n",
      "\n",
      "allowed me to migrate the hundred thousand user-generated datasets from the legacy system \n",
      "to a completely new platform in 2021. \n",
      " \n",
      "I started my career in the tech industry as a developer while I was studying Business \n",
      "Information Technology. After that, I moved forward into product development and \n",
      "management when I found my enthusiasm for the art of product development lifecycle \n",
      "applying Agile Methodology. However, I am still actively sharing the technical workload by \n",
      "reviewing the source code for quality assurance and taking responsibility for the server \n",
      "deployment using different cloud service providers such as AWS, Microsoft Azure, and Digital \n",
      "Ocean.\n",
      "\n",
      "Lead Developer \n",
      "New Westminster Co., Ltd. \n",
      "June 2015 to September 2016 \n",
      " \n",
      "Job Responsibility \n",
      "• Translated clients' business needs into project requirements and specifications. \n",
      "• Designed and implemented AJAX-enabled web applications using PHP, JavaScript, MySQL, \n",
      "HTML, and CSS in collaboration with graphic artists and web designers. \n",
      "• Provide senior and junior developers with technical guidance. \n",
      "Developer \n",
      "Global Connect Asia \n",
      " \n",
      "June 2013 – September 2014 \n",
      " \n",
      "Job Responsibility \n",
      "• Developed web applications using PHP, JavaScript, MySQL as well as CMS frameworks. \n",
      "• Developed Drupal CMS themes and templates according to design provided by UI/UX designer.\n",
      "\n",
      "Page 2 of 5 \n",
      " \n",
      " \n",
      "SUMMARY \n",
      "Dedicated and passionate product expert with 8+ years of experience in various technical industries \n",
      "(education, finance, agriculture). My major objective is to contribute to the business by utilizing my \n",
      "technical and business management skillset. I am eager to improve my experience and knowledge in \n",
      " delivering qualified digital products that provide value to clients and users.   \n",
      "EDUCATION \n",
      "Master of Data Science and Artificial Intelligence (Msc in DSAI) \n",
      "- \n",
      "Asian Institute of Technology (2024-Currnet) \n",
      " \n",
      "Business Information Technology (BSc Hons) \n",
      "• University of Greenwich (2011 - 2014) \n",
      " \n",
      "Bachelor of Laws (LL. B)\n",
      "    Question: Who are you by the way?\n",
      "    Answer:\u001b[0m\n",
      "\n",
      "\u001b[1m> Finished chain.\u001b[0m\n",
      "\n",
      "\u001b[1m> Finished chain.\u001b[0m\n",
      "\n",
      "\u001b[1m> Finished chain.\u001b[0m\n"
     ]
    },
    {
     "data": {
      "text/plain": [
       "{'question': 'Who are you by the way?',\n",
       " 'chat_history': [],\n",
       " 'answer': \"<pad>  I  am  an  AI  assistance  and  I  don't  have  a  name  or  position.  I  am  a  text-based  AI  language  model  that  can  provide  information  based  on  the  context  provided.  I  can  answer  the  user's  question  based  on  the  information  provided  in  the  context.\\n\",\n",
       " 'source_documents': [Document(page_content='Page 1 of 5 \\n \\nName: Nyein Chan Aung \\nPosition: Digital Product & Project Professional \\nAddress: Yangon, Myanmar \\nPhone: 091212121 \\n \\nMy name is Nyein Chan Aung. I was born in 7th Aug, 1990.  I’m currently working as a Product \\nManager at Village Link, one of the subsidiaries of Myanma Awba. I am mainly responsible for \\nproduct management, UI/UX research, user analysis, QA testing, and the product launch of our \\ncompany’s many products. I am leading the development of a delivery social agricultural \\nplatform with registered farmers. My ability to understand the system and database design \\nallowed me to migrate the hundred thousand user-generated datasets from the legacy system', metadata={'source': 'about-nca.pdf', 'file_path': 'about-nca.pdf', 'page': 0, 'total_pages': 5, 'format': 'PDF 1.4', 'title': '', 'author': '', 'subject': '', 'keywords': '', 'creator': '', 'producer': 'macOS Version 15.3.2 (Build 24D81) Quartz PDFContext', 'creationDate': \"D:20250316085053Z00'00'\", 'modDate': \"D:20250316085053Z00'00'\", 'trapped': ''}),\n",
       "  Document(page_content='allowed me to migrate the hundred thousand user-generated datasets from the legacy system \\nto a completely new platform in 2021. \\n \\nI started my career in the tech industry as a developer while I was studying Business \\nInformation Technology. After that, I moved forward into product development and \\nmanagement when I found my enthusiasm for the art of product development lifecycle \\napplying Agile Methodology. However, I am still actively sharing the technical workload by \\nreviewing the source code for quality assurance and taking responsibility for the server \\ndeployment using different cloud service providers such as AWS, Microsoft Azure, and Digital \\nOcean.', metadata={'source': 'about-nca.pdf', 'file_path': 'about-nca.pdf', 'page': 0, 'total_pages': 5, 'format': 'PDF 1.4', 'title': '', 'author': '', 'subject': '', 'keywords': '', 'creator': '', 'producer': 'macOS Version 15.3.2 (Build 24D81) Quartz PDFContext', 'creationDate': \"D:20250316085053Z00'00'\", 'modDate': \"D:20250316085053Z00'00'\", 'trapped': ''}),\n",
       "  Document(page_content=\"Lead Developer \\nNew Westminster Co., Ltd. \\nJune 2015 to September 2016 \\n \\nJob Responsibility \\n• Translated clients' business needs into project requirements and specifications. \\n• Designed and implemented AJAX-enabled web applications using PHP, JavaScript, MySQL, \\nHTML, and CSS in collaboration with graphic artists and web designers. \\n• Provide senior and junior developers with technical guidance. \\nDeveloper \\nGlobal Connect Asia \\n \\nJune 2013 – September 2014 \\n \\nJob Responsibility \\n• Developed web applications using PHP, JavaScript, MySQL as well as CMS frameworks. \\n• Developed Drupal CMS themes and templates according to design provided by UI/UX designer.\", metadata={'source': 'about-nca.pdf', 'file_path': 'about-nca.pdf', 'page': 2, 'total_pages': 5, 'format': 'PDF 1.4', 'title': '', 'author': '', 'subject': '', 'keywords': '', 'creator': '', 'producer': 'macOS Version 15.3.2 (Build 24D81) Quartz PDFContext', 'creationDate': \"D:20250316085053Z00'00'\", 'modDate': \"D:20250316085053Z00'00'\", 'trapped': ''}),\n",
       "  Document(page_content='Page 2 of 5 \\n \\n \\nSUMMARY \\nDedicated and passionate product expert with 8+ years of experience in various technical industries \\n(education, finance, agriculture). My major objective is to contribute to the business by utilizing my \\ntechnical and business management skillset. I am eager to improve my experience and knowledge in \\n delivering qualified digital products that provide value to clients and users.   \\nEDUCATION \\nMaster of Data Science and Artificial Intelligence (Msc in DSAI) \\n- \\nAsian Institute of Technology (2024-Currnet) \\n \\nBusiness Information Technology (BSc Hons) \\n• University of Greenwich (2011 - 2014) \\n \\nBachelor of Laws (LL. B)', metadata={'source': 'about-nca.pdf', 'file_path': 'about-nca.pdf', 'page': 1, 'total_pages': 5, 'format': 'PDF 1.4', 'title': '', 'author': '', 'subject': '', 'keywords': '', 'creator': '', 'producer': 'macOS Version 15.3.2 (Build 24D81) Quartz PDFContext', 'creationDate': \"D:20250316085053Z00'00'\", 'modDate': \"D:20250316085053Z00'00'\", 'trapped': ''})]}"
      ]
     },
     "execution_count": 57,
     "metadata": {},
     "output_type": "execute_result"
    }
   ],
   "source": [
    "prompt_question = \"Who are you by the way?\"\n",
    "answer = chain({\"question\":prompt_question})\n",
    "answer"
   ]
  },
  {
   "cell_type": "code",
   "execution_count": 58,
   "metadata": {
    "id": "_VwGRrqoI6JE"
   },
   "outputs": [
    {
     "name": "stdout",
     "output_type": "stream",
     "text": [
      "\n",
      "\n",
      "\u001b[1m> Entering new ConversationalRetrievalChain chain...\u001b[0m\n",
      "\n",
      "\n",
      "\u001b[1m> Entering new LLMChain chain...\u001b[0m\n",
      "Prompt after formatting:\n",
      "\u001b[32;1m\u001b[1;3mGiven the following conversation and a follow up question, rephrase the follow up question to be a standalone question, in its original language.\n",
      "\n",
      "Chat History:\n",
      "[HumanMessage(content='Who are you by the way?'), AIMessage(content=\"<pad>  I  am  an  AI  assistance  and  I  don't  have  a  name  or  position.  I  am  a  text-based  AI  language  model  that  can  provide  information  based  on  the  context  provided.  I  can  answer  the  user's  question  based  on  the  information  provided  in  the  context.\\n\")]\n",
      "Follow Up Input: WWhat is your highest level of education?\n",
      "Standalone question:\u001b[0m\n"
     ]
    },
    {
     "name": "stdout",
     "output_type": "stream",
     "text": [
      "\n",
      "\u001b[1m> Finished chain.\u001b[0m\n",
      "\n",
      "\n",
      "\u001b[1m> Entering new StuffDocumentsChain chain...\u001b[0m\n",
      "\n",
      "\n",
      "\u001b[1m> Entering new LLMChain chain...\u001b[0m\n",
      "Prompt after formatting:\n",
      "\u001b[32;1m\u001b[1;3mYou are AI assistance and you need to answer the user's question according to the context given.\n",
      "    Page 2 of 5 \n",
      " \n",
      " \n",
      "SUMMARY \n",
      "Dedicated and passionate product expert with 8+ years of experience in various technical industries \n",
      "(education, finance, agriculture). My major objective is to contribute to the business by utilizing my \n",
      "technical and business management skillset. I am eager to improve my experience and knowledge in \n",
      " delivering qualified digital products that provide value to clients and users.   \n",
      "EDUCATION \n",
      "Master of Data Science and Artificial Intelligence (Msc in DSAI) \n",
      "- \n",
      "Asian Institute of Technology (2024-Currnet) \n",
      " \n",
      "Business Information Technology (BSc Hons) \n",
      "• University of Greenwich (2011 - 2014) \n",
      " \n",
      "Bachelor of Laws (LL. B)\n",
      "\n",
      "• University of Greenwich (2011 - 2014) \n",
      " \n",
      "Bachelor of Laws (LL. B) \n",
      " • Yangon University of Distance Education, Yangon, Myanmar (2007 - 2010) \n",
      "WORK EXPERIENCE \n",
      "Product Manager \n",
      "Village Link Co. Ltd. \n",
      "Nov 2019 to Present \n",
      " \n",
      "Job Responsibility \n",
      "• Assist the CEO in preparing product roadmaps for business development efforts. \n",
      "• Prepare Product Requirement Documents (PRDs) to translate the high-level requirement into the \n",
      "developer-friendly functional specification for each value-added feature. \n",
      "• Responsible for communicating product progress with the internal development team, vendors, \n",
      "and various internal stakeholders weekly and monthly.\n",
      "\n",
      "allowed me to migrate the hundred thousand user-generated datasets from the legacy system \n",
      "to a completely new platform in 2021. \n",
      " \n",
      "I started my career in the tech industry as a developer while I was studying Business \n",
      "Information Technology. After that, I moved forward into product development and \n",
      "management when I found my enthusiasm for the art of product development lifecycle \n",
      "applying Agile Methodology. However, I am still actively sharing the technical workload by \n",
      "reviewing the source code for quality assurance and taking responsibility for the server \n",
      "deployment using different cloud service providers such as AWS, Microsoft Azure, and Digital \n",
      "Ocean.\n",
      "\n",
      "Page 1 of 5 \n",
      " \n",
      "Name: Nyein Chan Aung \n",
      "Position: Digital Product & Project Professional \n",
      "Address: Yangon, Myanmar \n",
      "Phone: 091212121 \n",
      " \n",
      "My name is Nyein Chan Aung. I was born in 7th Aug, 1990.  I’m currently working as a Product \n",
      "Manager at Village Link, one of the subsidiaries of Myanma Awba. I am mainly responsible for \n",
      "product management, UI/UX research, user analysis, QA testing, and the product launch of our \n",
      "company’s many products. I am leading the development of a delivery social agricultural \n",
      "platform with registered farmers. My ability to understand the system and database design \n",
      "allowed me to migrate the hundred thousand user-generated datasets from the legacy system\n",
      "    Question: <pad> What  is  your  highest  level  of  education?\n",
      "\n",
      "    Answer:\u001b[0m\n",
      "\n",
      "\u001b[1m> Finished chain.\u001b[0m\n",
      "\n",
      "\u001b[1m> Finished chain.\u001b[0m\n",
      "\n",
      "\u001b[1m> Finished chain.\u001b[0m\n"
     ]
    },
    {
     "data": {
      "text/plain": [
       "{'question': 'WWhat is your highest level of education?',\n",
       " 'chat_history': [HumanMessage(content='Who are you by the way?'),\n",
       "  AIMessage(content=\"<pad>  I  am  an  AI  assistance  and  I  don't  have  a  name  or  position.  I  am  a  text-based  AI  language  model  that  can  provide  information  based  on  the  context  provided.  I  can  answer  the  user's  question  based  on  the  information  provided  in  the  context.\\n\")],\n",
       " 'answer': '<pad>  My  highest  level  of  education  is  a  Master  of  Data  Science  and  Artificial  Intelligence  (Msc  in  DSAI)  from  Asian  Institute  of  Technology.\\n',\n",
       " 'source_documents': [Document(page_content='Page 2 of 5 \\n \\n \\nSUMMARY \\nDedicated and passionate product expert with 8+ years of experience in various technical industries \\n(education, finance, agriculture). My major objective is to contribute to the business by utilizing my \\ntechnical and business management skillset. I am eager to improve my experience and knowledge in \\n delivering qualified digital products that provide value to clients and users.   \\nEDUCATION \\nMaster of Data Science and Artificial Intelligence (Msc in DSAI) \\n- \\nAsian Institute of Technology (2024-Currnet) \\n \\nBusiness Information Technology (BSc Hons) \\n• University of Greenwich (2011 - 2014) \\n \\nBachelor of Laws (LL. B)', metadata={'source': 'about-nca.pdf', 'file_path': 'about-nca.pdf', 'page': 1, 'total_pages': 5, 'format': 'PDF 1.4', 'title': '', 'author': '', 'subject': '', 'keywords': '', 'creator': '', 'producer': 'macOS Version 15.3.2 (Build 24D81) Quartz PDFContext', 'creationDate': \"D:20250316085053Z00'00'\", 'modDate': \"D:20250316085053Z00'00'\", 'trapped': ''}),\n",
       "  Document(page_content='• University of Greenwich (2011 - 2014) \\n \\nBachelor of Laws (LL. B) \\n • Yangon University of Distance Education, Yangon, Myanmar (2007 - 2010) \\nWORK EXPERIENCE \\nProduct Manager \\nVillage Link Co. Ltd. \\nNov 2019 to Present \\n \\nJob Responsibility \\n• Assist the CEO in preparing product roadmaps for business development efforts. \\n• Prepare Product Requirement Documents (PRDs) to translate the high-level requirement into the \\ndeveloper-friendly functional specification for each value-added feature. \\n• Responsible for communicating product progress with the internal development team, vendors, \\nand various internal stakeholders weekly and monthly.', metadata={'source': 'about-nca.pdf', 'file_path': 'about-nca.pdf', 'page': 1, 'total_pages': 5, 'format': 'PDF 1.4', 'title': '', 'author': '', 'subject': '', 'keywords': '', 'creator': '', 'producer': 'macOS Version 15.3.2 (Build 24D81) Quartz PDFContext', 'creationDate': \"D:20250316085053Z00'00'\", 'modDate': \"D:20250316085053Z00'00'\", 'trapped': ''}),\n",
       "  Document(page_content='allowed me to migrate the hundred thousand user-generated datasets from the legacy system \\nto a completely new platform in 2021. \\n \\nI started my career in the tech industry as a developer while I was studying Business \\nInformation Technology. After that, I moved forward into product development and \\nmanagement when I found my enthusiasm for the art of product development lifecycle \\napplying Agile Methodology. However, I am still actively sharing the technical workload by \\nreviewing the source code for quality assurance and taking responsibility for the server \\ndeployment using different cloud service providers such as AWS, Microsoft Azure, and Digital \\nOcean.', metadata={'source': 'about-nca.pdf', 'file_path': 'about-nca.pdf', 'page': 0, 'total_pages': 5, 'format': 'PDF 1.4', 'title': '', 'author': '', 'subject': '', 'keywords': '', 'creator': '', 'producer': 'macOS Version 15.3.2 (Build 24D81) Quartz PDFContext', 'creationDate': \"D:20250316085053Z00'00'\", 'modDate': \"D:20250316085053Z00'00'\", 'trapped': ''}),\n",
       "  Document(page_content='Page 1 of 5 \\n \\nName: Nyein Chan Aung \\nPosition: Digital Product & Project Professional \\nAddress: Yangon, Myanmar \\nPhone: 091212121 \\n \\nMy name is Nyein Chan Aung. I was born in 7th Aug, 1990.  I’m currently working as a Product \\nManager at Village Link, one of the subsidiaries of Myanma Awba. I am mainly responsible for \\nproduct management, UI/UX research, user analysis, QA testing, and the product launch of our \\ncompany’s many products. I am leading the development of a delivery social agricultural \\nplatform with registered farmers. My ability to understand the system and database design \\nallowed me to migrate the hundred thousand user-generated datasets from the legacy system', metadata={'source': 'about-nca.pdf', 'file_path': 'about-nca.pdf', 'page': 0, 'total_pages': 5, 'format': 'PDF 1.4', 'title': '', 'author': '', 'subject': '', 'keywords': '', 'creator': '', 'producer': 'macOS Version 15.3.2 (Build 24D81) Quartz PDFContext', 'creationDate': \"D:20250316085053Z00'00'\", 'modDate': \"D:20250316085053Z00'00'\", 'trapped': ''})]}"
      ]
     },
     "execution_count": 58,
     "metadata": {},
     "output_type": "execute_result"
    }
   ],
   "source": [
    "prompt_question = \"WWhat is your highest level of education?\"\n",
    "answer = chain({\"question\":prompt_question})\n",
    "answer"
   ]
  },
  {
   "cell_type": "code",
   "execution_count": 59,
   "metadata": {
    "id": "hlMND0I9I6JE"
   },
   "outputs": [
    {
     "name": "stdout",
     "output_type": "stream",
     "text": [
      "\n",
      "\n",
      "\u001b[1m> Entering new ConversationalRetrievalChain chain...\u001b[0m\n",
      "\n",
      "\n",
      "\u001b[1m> Entering new LLMChain chain...\u001b[0m\n",
      "Prompt after formatting:\n",
      "\u001b[32;1m\u001b[1;3mGiven the following conversation and a follow up question, rephrase the follow up question to be a standalone question, in its original language.\n",
      "\n",
      "Chat History:\n",
      "[HumanMessage(content='Who are you by the way?'), AIMessage(content=\"<pad>  I  am  an  AI  assistance  and  I  don't  have  a  name  or  position.  I  am  a  text-based  AI  language  model  that  can  provide  information  based  on  the  context  provided.  I  can  answer  the  user's  question  based  on  the  information  provided  in  the  context.\\n\"), HumanMessage(content='WWhat is your highest level of education?'), AIMessage(content='<pad>  My  highest  level  of  education  is  a  Master  of  Data  Science  and  Artificial  Intelligence  (Msc  in  DSAI)  from  Asian  Institute  of  Technology.\\n')]\n",
      "Follow Up Input: What major or field of study did you pursue during your education?\n",
      "Standalone question:\u001b[0m\n",
      "\n",
      "\u001b[1m> Finished chain.\u001b[0m\n",
      "\n",
      "\n",
      "\u001b[1m> Entering new StuffDocumentsChain chain...\u001b[0m\n",
      "\n",
      "\n",
      "\u001b[1m> Entering new LLMChain chain...\u001b[0m\n",
      "Prompt after formatting:\n",
      "\u001b[32;1m\u001b[1;3mYou are AI assistance and you need to answer the user's question according to the context given.\n",
      "    Page 2 of 5 \n",
      " \n",
      " \n",
      "SUMMARY \n",
      "Dedicated and passionate product expert with 8+ years of experience in various technical industries \n",
      "(education, finance, agriculture). My major objective is to contribute to the business by utilizing my \n",
      "technical and business management skillset. I am eager to improve my experience and knowledge in \n",
      " delivering qualified digital products that provide value to clients and users.   \n",
      "EDUCATION \n",
      "Master of Data Science and Artificial Intelligence (Msc in DSAI) \n",
      "- \n",
      "Asian Institute of Technology (2024-Currnet) \n",
      " \n",
      "Business Information Technology (BSc Hons) \n",
      "• University of Greenwich (2011 - 2014) \n",
      " \n",
      "Bachelor of Laws (LL. B)\n",
      "\n",
      "allowed me to migrate the hundred thousand user-generated datasets from the legacy system \n",
      "to a completely new platform in 2021. \n",
      " \n",
      "I started my career in the tech industry as a developer while I was studying Business \n",
      "Information Technology. After that, I moved forward into product development and \n",
      "management when I found my enthusiasm for the art of product development lifecycle \n",
      "applying Agile Methodology. However, I am still actively sharing the technical workload by \n",
      "reviewing the source code for quality assurance and taking responsibility for the server \n",
      "deployment using different cloud service providers such as AWS, Microsoft Azure, and Digital \n",
      "Ocean.\n",
      "\n",
      "• University of Greenwich (2011 - 2014) \n",
      " \n",
      "Bachelor of Laws (LL. B) \n",
      " • Yangon University of Distance Education, Yangon, Myanmar (2007 - 2010) \n",
      "WORK EXPERIENCE \n",
      "Product Manager \n",
      "Village Link Co. Ltd. \n",
      "Nov 2019 to Present \n",
      " \n",
      "Job Responsibility \n",
      "• Assist the CEO in preparing product roadmaps for business development efforts. \n",
      "• Prepare Product Requirement Documents (PRDs) to translate the high-level requirement into the \n",
      "developer-friendly functional specification for each value-added feature. \n",
      "• Responsible for communicating product progress with the internal development team, vendors, \n",
      "and various internal stakeholders weekly and monthly.\n",
      "\n",
      "Page 1 of 5 \n",
      " \n",
      "Name: Nyein Chan Aung \n",
      "Position: Digital Product & Project Professional \n",
      "Address: Yangon, Myanmar \n",
      "Phone: 091212121 \n",
      " \n",
      "My name is Nyein Chan Aung. I was born in 7th Aug, 1990.  I’m currently working as a Product \n",
      "Manager at Village Link, one of the subsidiaries of Myanma Awba. I am mainly responsible for \n",
      "product management, UI/UX research, user analysis, QA testing, and the product launch of our \n",
      "company’s many products. I am leading the development of a delivery social agricultural \n",
      "platform with registered farmers. My ability to understand the system and database design \n",
      "allowed me to migrate the hundred thousand user-generated datasets from the legacy system\n",
      "    Question: <pad>  What  was  your  major  or  field  of  study  during  your  education?\n",
      "\n",
      "    Answer:\u001b[0m\n",
      "\n",
      "\u001b[1m> Finished chain.\u001b[0m\n",
      "\n",
      "\u001b[1m> Finished chain.\u001b[0m\n",
      "\n",
      "\u001b[1m> Finished chain.\u001b[0m\n"
     ]
    },
    {
     "data": {
      "text/plain": [
       "{'question': 'What major or field of study did you pursue during your education?',\n",
       " 'chat_history': [HumanMessage(content='Who are you by the way?'),\n",
       "  AIMessage(content=\"<pad>  I  am  an  AI  assistance  and  I  don't  have  a  name  or  position.  I  am  a  text-based  AI  language  model  that  can  provide  information  based  on  the  context  provided.  I  can  answer  the  user's  question  based  on  the  information  provided  in  the  context.\\n\"),\n",
       "  HumanMessage(content='WWhat is your highest level of education?'),\n",
       "  AIMessage(content='<pad>  My  highest  level  of  education  is  a  Master  of  Data  Science  and  Artificial  Intelligence  (Msc  in  DSAI)  from  Asian  Institute  of  Technology.\\n')],\n",
       " 'answer': '<pad>  My  major  or  field  of  study  during  my  education  was  Business  Information  Technology  (BSc  Hons).\\n',\n",
       " 'source_documents': [Document(page_content='Page 2 of 5 \\n \\n \\nSUMMARY \\nDedicated and passionate product expert with 8+ years of experience in various technical industries \\n(education, finance, agriculture). My major objective is to contribute to the business by utilizing my \\ntechnical and business management skillset. I am eager to improve my experience and knowledge in \\n delivering qualified digital products that provide value to clients and users.   \\nEDUCATION \\nMaster of Data Science and Artificial Intelligence (Msc in DSAI) \\n- \\nAsian Institute of Technology (2024-Currnet) \\n \\nBusiness Information Technology (BSc Hons) \\n• University of Greenwich (2011 - 2014) \\n \\nBachelor of Laws (LL. B)', metadata={'source': 'about-nca.pdf', 'file_path': 'about-nca.pdf', 'page': 1, 'total_pages': 5, 'format': 'PDF 1.4', 'title': '', 'author': '', 'subject': '', 'keywords': '', 'creator': '', 'producer': 'macOS Version 15.3.2 (Build 24D81) Quartz PDFContext', 'creationDate': \"D:20250316085053Z00'00'\", 'modDate': \"D:20250316085053Z00'00'\", 'trapped': ''}),\n",
       "  Document(page_content='allowed me to migrate the hundred thousand user-generated datasets from the legacy system \\nto a completely new platform in 2021. \\n \\nI started my career in the tech industry as a developer while I was studying Business \\nInformation Technology. After that, I moved forward into product development and \\nmanagement when I found my enthusiasm for the art of product development lifecycle \\napplying Agile Methodology. However, I am still actively sharing the technical workload by \\nreviewing the source code for quality assurance and taking responsibility for the server \\ndeployment using different cloud service providers such as AWS, Microsoft Azure, and Digital \\nOcean.', metadata={'source': 'about-nca.pdf', 'file_path': 'about-nca.pdf', 'page': 0, 'total_pages': 5, 'format': 'PDF 1.4', 'title': '', 'author': '', 'subject': '', 'keywords': '', 'creator': '', 'producer': 'macOS Version 15.3.2 (Build 24D81) Quartz PDFContext', 'creationDate': \"D:20250316085053Z00'00'\", 'modDate': \"D:20250316085053Z00'00'\", 'trapped': ''}),\n",
       "  Document(page_content='• University of Greenwich (2011 - 2014) \\n \\nBachelor of Laws (LL. B) \\n • Yangon University of Distance Education, Yangon, Myanmar (2007 - 2010) \\nWORK EXPERIENCE \\nProduct Manager \\nVillage Link Co. Ltd. \\nNov 2019 to Present \\n \\nJob Responsibility \\n• Assist the CEO in preparing product roadmaps for business development efforts. \\n• Prepare Product Requirement Documents (PRDs) to translate the high-level requirement into the \\ndeveloper-friendly functional specification for each value-added feature. \\n• Responsible for communicating product progress with the internal development team, vendors, \\nand various internal stakeholders weekly and monthly.', metadata={'source': 'about-nca.pdf', 'file_path': 'about-nca.pdf', 'page': 1, 'total_pages': 5, 'format': 'PDF 1.4', 'title': '', 'author': '', 'subject': '', 'keywords': '', 'creator': '', 'producer': 'macOS Version 15.3.2 (Build 24D81) Quartz PDFContext', 'creationDate': \"D:20250316085053Z00'00'\", 'modDate': \"D:20250316085053Z00'00'\", 'trapped': ''}),\n",
       "  Document(page_content='Page 1 of 5 \\n \\nName: Nyein Chan Aung \\nPosition: Digital Product & Project Professional \\nAddress: Yangon, Myanmar \\nPhone: 091212121 \\n \\nMy name is Nyein Chan Aung. I was born in 7th Aug, 1990.  I’m currently working as a Product \\nManager at Village Link, one of the subsidiaries of Myanma Awba. I am mainly responsible for \\nproduct management, UI/UX research, user analysis, QA testing, and the product launch of our \\ncompany’s many products. I am leading the development of a delivery social agricultural \\nplatform with registered farmers. My ability to understand the system and database design \\nallowed me to migrate the hundred thousand user-generated datasets from the legacy system', metadata={'source': 'about-nca.pdf', 'file_path': 'about-nca.pdf', 'page': 0, 'total_pages': 5, 'format': 'PDF 1.4', 'title': '', 'author': '', 'subject': '', 'keywords': '', 'creator': '', 'producer': 'macOS Version 15.3.2 (Build 24D81) Quartz PDFContext', 'creationDate': \"D:20250316085053Z00'00'\", 'modDate': \"D:20250316085053Z00'00'\", 'trapped': ''})]}"
      ]
     },
     "execution_count": 59,
     "metadata": {},
     "output_type": "execute_result"
    }
   ],
   "source": [
    "prompt_question = \"What major or field of study did you pursue during your education?\"\n",
    "answer = chain({\"question\":prompt_question})\n",
    "answer "
   ]
  },
  {
   "cell_type": "code",
   "execution_count": 61,
   "metadata": {
    "id": "eB4babXqI6JE"
   },
   "outputs": [],
   "source": [
    "# prompt_question = \"How many years of work experience do you have?\"\n",
    "# answer = chain({\"question\":prompt_question})\n",
    "# answer"
   ]
  },
  {
   "cell_type": "code",
   "execution_count": 62,
   "metadata": {
    "id": "38bL6sAUI6JE"
   },
   "outputs": [],
   "source": [
    "# prompt_question = \"How old are you?\"\n",
    "# answer = chain({\"question\":prompt_question})\n",
    "# answer"
   ]
  },
  {
   "cell_type": "markdown",
   "metadata": {},
   "source": []
  },
  {
   "cell_type": "markdown",
   "metadata": {},
   "source": []
  },
  {
   "cell_type": "markdown",
   "metadata": {},
   "source": []
  }
 ],
 "metadata": {
  "accelerator": "GPU",
  "colab": {
   "gpuType": "T4",
   "provenance": []
  },
  "kernelspec": {
   "display_name": "oldrag",
   "language": "python",
   "name": "python3"
  },
  "language_info": {
   "codemirror_mode": {
    "name": "ipython",
    "version": 3
   },
   "file_extension": ".py",
   "mimetype": "text/x-python",
   "name": "python",
   "nbconvert_exporter": "python",
   "pygments_lexer": "ipython3",
   "version": "3.9.21"
  }
 },
 "nbformat": 4,
 "nbformat_minor": 0
}
